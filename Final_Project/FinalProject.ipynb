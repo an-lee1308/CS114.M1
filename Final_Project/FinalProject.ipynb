{
  "nbformat": 4,
  "nbformat_minor": 0,
  "metadata": {
    "colab": {
      "name": "FinalProject.ipynb",
      "provenance": [],
      "collapsed_sections": []
    },
    "kernelspec": {
      "name": "python3",
      "display_name": "Python 3"
    }
  },
  "cells": [
    {
      "cell_type": "markdown",
      "metadata": {
        "id": "J_E_Jn_LOFZU"
      },
      "source": [
        "# **PHÁT HIỆN TỪ NGỮ THÔ TỤC, XÚC PHẠM TRONG CÁC BÌNH LUẬN**\n"
      ]
    },
    {
      "cell_type": "markdown",
      "metadata": {
        "id": "yUdAf57EOJFk"
      },
      "source": [
        "#**1. Mô tả bài toán**"
      ]
    },
    {
      "cell_type": "markdown",
      "metadata": {
        "id": "PxQBXTi5ONR6"
      },
      "source": [
        "##Đặt vần đề\n"
      ]
    },
    {
      "cell_type": "markdown",
      "metadata": {
        "id": "xU4RK8W_OOMK"
      },
      "source": [
        "  Theo khảo sát mới được công bố của Microsoft, Việt Nam nằm trong top 5 quốc gia có chỉ số mức độ văn minh thấp nhất trên không gian mạng (DCI).\n",
        "\n",
        "  Mặc dù kết quả khảo sát này bất lợi cho hình ảnh cộng đồng mạng Việt Nam nhưng nó không tạo nên làn sóng phản đối từ người dùng. Theo khảo sát trên Zing.vn, 87% bạn đọc đồng tình với việc Microsoft xếp Việt Nam vào top 5 những nước hành xử kém văn minh trên Internet.\n",
        "\n",
        "![Việt Nam đứng top 5 nước có hành xử trên Internet kém văn minh nhất.](https://media.tinmoi.vn/resize_650x417/upload/thanhdat/2020/02/22/080738-internet-viet-nam-2.jpg)\n",
        "\n",
        "                                              Ảnh Zingvn\n",
        "\n",
        "  Tuy vậy, vẫn có nhiều người phản đối kết quả của Microsoft. Trong đó, bình luận chủ tài khoản Facebook có tên Koba Yashi đến từ Việt Nam được chia sẻ rộng rãi nhất như một minh chứng rõ cho kết quả khảo sát.\n",
        "\n",
        "**\"Thấp cái ***** *******, căn cứ vào đâu để đánh giá chứ\"\n"
      ]
    },
    {
      "cell_type": "markdown",
      "metadata": {
        "id": "cAjg8bhIOXfS"
      },
      "source": [
        "## Bài toán cần giải quyết\n",
        "\n",
        "> Bài toán cần được giải quyết ở đây đó chính là phát hiện được những câu bình luận mang tính xúc phạp, thô tục, ... từ đó để xuất với nhà phát triển nhằm mục đích xóa những bình luận ấy.\n",
        "\n",
        "> Input: một câu bình luận bất kì (thường lấy ở các bài post của những cá nhân bị ghét, ném đá nhiều)\n",
        "\n",
        "> Output: Xuất ra 1 nếu câu binh luận mang tính xúc phạm, thô tục và xuất ra 0 nếu ngược lại. \n",
        "\n"
      ]
    },
    {
      "cell_type": "markdown",
      "metadata": {
        "id": "ASGSFegVOg2y"
      },
      "source": [
        "#**2. Mô tả về bộ dữ liệu**"
      ]
    },
    {
      "cell_type": "markdown",
      "metadata": {
        "id": "kIfi_2DUOpxt"
      },
      "source": [
        "###Cách thu thập bộ dữ liệu\n",
        "  + Lấy tất cả các bình luận trong các bài viết gây xôn xao cộng đồng mạng\n",
        "  + Lấy dữ liệu là comment trên facebook bằng cách crawl dữ liệu (cách crawl data và source code em để trên github)\n",
        "\n"
      ]
    },
    {
      "cell_type": "markdown",
      "metadata": {
        "id": "Ias_GKe0PFqp"
      },
      "source": [
        "###Số lượng  \n",
        "- 4764 bình luận, trong đó 2121 bình luận mang tính thô tục, xúc phạm và số còn lại là những bình luận bình thường.\n",
        "\n"
      ]
    },
    {
      "cell_type": "markdown",
      "metadata": {
        "id": "ukLsSognQIgq"
      },
      "source": [
        "###Phân chia\n",
        "75% dùng để làm training data, 25% còn lại dùng để làm test data, dev data được thu thập thêm ở ngoài sau khi training xong \n",
        "\n",
        "\n"
      ]
    },
    {
      "cell_type": "markdown",
      "metadata": {
        "id": "PorNcTaFQRfp"
      },
      "source": [
        "###Các thao tác tiền xử lý dữ liệu: \n",
        "  + Cleaning data: là bước làm sạch dữ liệu trước khi bắt đầu bất kì xử lý nào trên tập dữ liệu của chúng ta, nó bao gồm một số khái niệm của xử lý ngôn ngữ tự nhiên như loại bỏ Stop Words (Năng cao: kiểm tra chính tả chẳng hạn)\n",
        "\n",
        "  + Words segmentation hay còn gọi là tách từ, là bước cực kỳ quan trọng và phức tạp đặc biệt là đối với Tiếng Việt.\n",
        "\n",
        "- Chi tiết tiền xử lý dữ liệu:\n",
        "  + Các comment thường viết hoa viết thường rất lung tung, nên em sẽ chuyển tất các các bình luận về dạng lower case.\n",
        "  + Chuyển các chữ cái các bạn trẻ hiện nay thường kéo dài về dạng nguyên mẫu (vd: nguuuuuuuuuuuuuu --> ngu)\n",
        "  + Loại bỏ dấu câu và các ký tự đặc biệt\n",
        "  + Loại bỏ các icon không có ý nghĩa\n",
        "  \n",
        "  + Xử lý mất cân bằng dữ liệu:\n",
        "  > Under sampling\n",
        "    Under sampling là việc ta giảm số lượng các quan sát của nhóm đa số để nó trở nên cân bằng với số quan sát của nhóm thiểu số. Ưu điểm của under sampling là làm cân bằng mẫu một cách nhanh chóng, dễ dàng tiến hành thực hiện mà không cần đến thuật toán giả lập mẫu.\n",
        "\n",
        "     > Tuy nhiên nhược điểm của nó là kích thước mẫu sẽ bị giảm đáng kể. Gỉa sử nhóm thiểu số có kích thước là 500, như vậy để tạo ra sự cân bằng mẫu giữa nhóm đa số và thiểu số sẽ cần giảm kích thước mẫu của nhóm đa số từ 10000 về 500. Tổng kích thước tập huấn luyện sau under sampling là 1000 và chiếm gần 1/10 kích thước tập huấn luyện ban đầu. Tập huấn luyện mới khá nhỏ, không đại diện cho phân phối của toàn bộ tập dữ liệu và thường dễ dẫn tới hiện tượng overfitting.\n",
        "     --> không sử dụng cách này\n",
        "\n",
        "    > Over sampling\n",
        "    Là các phương pháp giúp giải quyết hiện tượng mất cân bằng mẫu bằng cách gia tăng kích thước mẫu thuộc nhóm thiểu số bằng các kĩ thuật khác nhau.\n"
      ]
    },
    {
      "cell_type": "code",
      "metadata": {
        "id": "fQvW_NzzGelq"
      },
      "source": [
        "# import các thư viện cần thiết\n",
        "from sklearn.metrics import classification_report\n",
        "from sklearn.model_selection import train_test_split\n",
        "\n",
        "from sklearn.feature_extraction.text import TfidfVectorizer\n",
        "\n",
        "from sklearn.linear_model import LogisticRegression\n",
        "from sklearn.naive_bayes import MultinomialNB\n",
        "from sklearn.svm import LinearSVC, LinearSVR\n",
        "from sklearn.tree import DecisionTreeClassifier\n",
        "\n",
        "import pandas as pd \n",
        "\n"
      ],
      "execution_count": 1,
      "outputs": []
    },
    {
      "cell_type": "code",
      "source": [
        "from google.colab import drive\n",
        "drive.mount('/content/drive')"
      ],
      "metadata": {
        "colab": {
          "base_uri": "https://localhost:8080/"
        },
        "id": "gvywdxi86jxz",
        "outputId": "023e232d-df27-45d5-b354-6d2d5d5bd769"
      },
      "execution_count": 2,
      "outputs": [
        {
          "output_type": "stream",
          "name": "stdout",
          "text": [
            "Mounted at /content/drive\n"
          ]
        }
      ]
    },
    {
      "cell_type": "code",
      "metadata": {
        "id": "gVCc5ziaj1lt",
        "colab": {
          "base_uri": "https://localhost:8080/",
          "height": 363
        },
        "outputId": "0f6be1b7-e50e-44f0-d17d-71df4429b450"
      },
      "source": [
        "#tải dữ liệu lên\n",
        "csv_file = open('/content/drive/MyDrive/data-label1.csv')\n",
        "names = ['cmt', 'is_profane']\n",
        "data = pd.read_csv(csv_file, names = names)\n",
        "data.head(10)\n"
      ],
      "execution_count": 4,
      "outputs": [
        {
          "output_type": "execute_result",
          "data": {
            "text/html": [
              "\n",
              "  <div id=\"df-b22966ce-4957-4d9c-9a63-975ac825a418\">\n",
              "    <div class=\"colab-df-container\">\n",
              "      <div>\n",
              "<style scoped>\n",
              "    .dataframe tbody tr th:only-of-type {\n",
              "        vertical-align: middle;\n",
              "    }\n",
              "\n",
              "    .dataframe tbody tr th {\n",
              "        vertical-align: top;\n",
              "    }\n",
              "\n",
              "    .dataframe thead th {\n",
              "        text-align: right;\n",
              "    }\n",
              "</style>\n",
              "<table border=\"1\" class=\"dataframe\">\n",
              "  <thead>\n",
              "    <tr style=\"text-align: right;\">\n",
              "      <th></th>\n",
              "      <th>cmt</th>\n",
              "      <th>is_profane</th>\n",
              "    </tr>\n",
              "  </thead>\n",
              "  <tbody>\n",
              "    <tr>\n",
              "      <th>0</th>\n",
              "      <td>Em đang xả với 1xx+freship ai qtam ib em nhé</td>\n",
              "      <td>0</td>\n",
              "    </tr>\n",
              "    <tr>\n",
              "      <th>1</th>\n",
              "      <td>1 số đặt đc lần nhiều đơn hả mọi người, tưởng ...</td>\n",
              "      <td>0</td>\n",
              "    </tr>\n",
              "    <tr>\n",
              "      <th>2</th>\n",
              "      <td>Ác quá🙄</td>\n",
              "      <td>0</td>\n",
              "    </tr>\n",
              "    <tr>\n",
              "      <th>3</th>\n",
              "      <td>Mấy thằng ngu dốt mà tại sao gọi bọn nó là nhà...</td>\n",
              "      <td>1</td>\n",
              "    </tr>\n",
              "    <tr>\n",
              "      <th>4</th>\n",
              "      <td>Ác thật 😔</td>\n",
              "      <td>0</td>\n",
              "    </tr>\n",
              "    <tr>\n",
              "      <th>5</th>\n",
              "      <td>Ác vl</td>\n",
              "      <td>1</td>\n",
              "    </tr>\n",
              "    <tr>\n",
              "      <th>6</th>\n",
              "      <td>ad cứ để số đt ra ko cần che. Cho nó hết dùng ...</td>\n",
              "      <td>0</td>\n",
              "    </tr>\n",
              "    <tr>\n",
              "      <th>7</th>\n",
              "      <td>Ae chánh ta</td>\n",
              "      <td>0</td>\n",
              "    </tr>\n",
              "    <tr>\n",
              "      <th>8</th>\n",
              "      <td>Anh Chun có phải trò này mày chuyên làm ko hả ?</td>\n",
              "      <td>0</td>\n",
              "    </tr>\n",
              "    <tr>\n",
              "      <th>9</th>\n",
              "      <td>Anh Nguyen mượn đt làm vài đơn Now</td>\n",
              "      <td>0</td>\n",
              "    </tr>\n",
              "  </tbody>\n",
              "</table>\n",
              "</div>\n",
              "      <button class=\"colab-df-convert\" onclick=\"convertToInteractive('df-b22966ce-4957-4d9c-9a63-975ac825a418')\"\n",
              "              title=\"Convert this dataframe to an interactive table.\"\n",
              "              style=\"display:none;\">\n",
              "        \n",
              "  <svg xmlns=\"http://www.w3.org/2000/svg\" height=\"24px\"viewBox=\"0 0 24 24\"\n",
              "       width=\"24px\">\n",
              "    <path d=\"M0 0h24v24H0V0z\" fill=\"none\"/>\n",
              "    <path d=\"M18.56 5.44l.94 2.06.94-2.06 2.06-.94-2.06-.94-.94-2.06-.94 2.06-2.06.94zm-11 1L8.5 8.5l.94-2.06 2.06-.94-2.06-.94L8.5 2.5l-.94 2.06-2.06.94zm10 10l.94 2.06.94-2.06 2.06-.94-2.06-.94-.94-2.06-.94 2.06-2.06.94z\"/><path d=\"M17.41 7.96l-1.37-1.37c-.4-.4-.92-.59-1.43-.59-.52 0-1.04.2-1.43.59L10.3 9.45l-7.72 7.72c-.78.78-.78 2.05 0 2.83L4 21.41c.39.39.9.59 1.41.59.51 0 1.02-.2 1.41-.59l7.78-7.78 2.81-2.81c.8-.78.8-2.07 0-2.86zM5.41 20L4 18.59l7.72-7.72 1.47 1.35L5.41 20z\"/>\n",
              "  </svg>\n",
              "      </button>\n",
              "      \n",
              "  <style>\n",
              "    .colab-df-container {\n",
              "      display:flex;\n",
              "      flex-wrap:wrap;\n",
              "      gap: 12px;\n",
              "    }\n",
              "\n",
              "    .colab-df-convert {\n",
              "      background-color: #E8F0FE;\n",
              "      border: none;\n",
              "      border-radius: 50%;\n",
              "      cursor: pointer;\n",
              "      display: none;\n",
              "      fill: #1967D2;\n",
              "      height: 32px;\n",
              "      padding: 0 0 0 0;\n",
              "      width: 32px;\n",
              "    }\n",
              "\n",
              "    .colab-df-convert:hover {\n",
              "      background-color: #E2EBFA;\n",
              "      box-shadow: 0px 1px 2px rgba(60, 64, 67, 0.3), 0px 1px 3px 1px rgba(60, 64, 67, 0.15);\n",
              "      fill: #174EA6;\n",
              "    }\n",
              "\n",
              "    [theme=dark] .colab-df-convert {\n",
              "      background-color: #3B4455;\n",
              "      fill: #D2E3FC;\n",
              "    }\n",
              "\n",
              "    [theme=dark] .colab-df-convert:hover {\n",
              "      background-color: #434B5C;\n",
              "      box-shadow: 0px 1px 3px 1px rgba(0, 0, 0, 0.15);\n",
              "      filter: drop-shadow(0px 1px 2px rgba(0, 0, 0, 0.3));\n",
              "      fill: #FFFFFF;\n",
              "    }\n",
              "  </style>\n",
              "\n",
              "      <script>\n",
              "        const buttonEl =\n",
              "          document.querySelector('#df-b22966ce-4957-4d9c-9a63-975ac825a418 button.colab-df-convert');\n",
              "        buttonEl.style.display =\n",
              "          google.colab.kernel.accessAllowed ? 'block' : 'none';\n",
              "\n",
              "        async function convertToInteractive(key) {\n",
              "          const element = document.querySelector('#df-b22966ce-4957-4d9c-9a63-975ac825a418');\n",
              "          const dataTable =\n",
              "            await google.colab.kernel.invokeFunction('convertToInteractive',\n",
              "                                                     [key], {});\n",
              "          if (!dataTable) return;\n",
              "\n",
              "          const docLinkHtml = 'Like what you see? Visit the ' +\n",
              "            '<a target=\"_blank\" href=https://colab.research.google.com/notebooks/data_table.ipynb>data table notebook</a>'\n",
              "            + ' to learn more about interactive tables.';\n",
              "          element.innerHTML = '';\n",
              "          dataTable['output_type'] = 'display_data';\n",
              "          await google.colab.output.renderOutput(dataTable, element);\n",
              "          const docLink = document.createElement('div');\n",
              "          docLink.innerHTML = docLinkHtml;\n",
              "          element.appendChild(docLink);\n",
              "        }\n",
              "      </script>\n",
              "    </div>\n",
              "  </div>\n",
              "  "
            ],
            "text/plain": [
              "                                                 cmt  is_profane\n",
              "0       Em đang xả với 1xx+freship ai qtam ib em nhé           0\n",
              "1  1 số đặt đc lần nhiều đơn hả mọi người, tưởng ...           0\n",
              "2                                            Ác quá🙄           0\n",
              "3  Mấy thằng ngu dốt mà tại sao gọi bọn nó là nhà...           1\n",
              "4                                          Ác thật 😔           0\n",
              "5                                             Ác vl            1\n",
              "6  ad cứ để số đt ra ko cần che. Cho nó hết dùng ...           0\n",
              "7                                        Ae chánh ta           0\n",
              "8    Anh Chun có phải trò này mày chuyên làm ko hả ?           0\n",
              "9                 Anh Nguyen mượn đt làm vài đơn Now           0"
            ]
          },
          "metadata": {},
          "execution_count": 4
        }
      ]
    },
    {
      "cell_type": "code",
      "metadata": {
        "id": "wLIeJQGDRWLj"
      },
      "source": [
        "X = data['cmt']\n",
        "Y = data['is_profane']\n"
      ],
      "execution_count": 5,
      "outputs": []
    },
    {
      "cell_type": "code",
      "metadata": {
        "id": "XCUC3EPn_W5U",
        "colab": {
          "base_uri": "https://localhost:8080/"
        },
        "outputId": "264e5c1b-d4a3-4a84-b323-b2badd903e45"
      },
      "source": [
        "X"
      ],
      "execution_count": 6,
      "outputs": [
        {
          "output_type": "execute_result",
          "data": {
            "text/plain": [
              "0            Em đang xả với 1xx+freship ai qtam ib em nhé\n",
              "1       1 số đặt đc lần nhiều đơn hả mọi người, tưởng ...\n",
              "2                                                 Ác quá🙄\n",
              "3       Mấy thằng ngu dốt mà tại sao gọi bọn nó là nhà...\n",
              "4                                               Ác thật 😔\n",
              "                              ...                        \n",
              "5297    Chúc kênh panba dc nhiều sub nha yêu thầy dấu ...\n",
              "5298    Quỳnh Hương thật, t tưởng nó viết thiếu dấu nặ...\n",
              "5299    Nguyễn Thị Duyên vậy thì làm sao vượt qua sóng...\n",
              "5300                   Bạn chả có máu hóa văn loz j cã=]]\n",
              "5301    Nhok Lầy: địt mẹ hay thì mày share đi. Nhai đi...\n",
              "Name: cmt, Length: 5302, dtype: object"
            ]
          },
          "metadata": {},
          "execution_count": 6
        }
      ]
    },
    {
      "cell_type": "code",
      "source": [
        "Y"
      ],
      "metadata": {
        "colab": {
          "base_uri": "https://localhost:8080/"
        },
        "id": "wIh2DK0bqCPH",
        "outputId": "46f0fe0c-5a8f-4ed1-e2fa-fc84776857b9"
      },
      "execution_count": 7,
      "outputs": [
        {
          "output_type": "execute_result",
          "data": {
            "text/plain": [
              "0       0\n",
              "1       0\n",
              "2       0\n",
              "3       1\n",
              "4       0\n",
              "       ..\n",
              "5297    0\n",
              "5298    1\n",
              "5299    0\n",
              "5300    1\n",
              "5301    1\n",
              "Name: is_profane, Length: 5302, dtype: int64"
            ]
          },
          "metadata": {},
          "execution_count": 7
        }
      ]
    },
    {
      "cell_type": "code",
      "metadata": {
        "id": "RBsE63q78H0H",
        "colab": {
          "base_uri": "https://localhost:8080/",
          "height": 351
        },
        "outputId": "6e05d9cb-b9a7-4160-985c-427c83fbd00f"
      },
      "source": [
        "import matplotlib.pyplot as plt\n",
        "import seaborn as sns\n",
        "\n",
        "%matplotlib inline\n",
        "sns.set_style(\"white\")\n",
        "sns.countplot(Y).set_title('Data')\n",
        "plt.show()"
      ],
      "execution_count": 8,
      "outputs": [
        {
          "output_type": "stream",
          "name": "stderr",
          "text": [
            "/usr/local/lib/python3.7/dist-packages/seaborn/_decorators.py:43: FutureWarning: Pass the following variable as a keyword arg: x. From version 0.12, the only valid positional argument will be `data`, and passing other arguments without an explicit keyword will result in an error or misinterpretation.\n",
            "  FutureWarning\n"
          ]
        },
        {
          "output_type": "display_data",
          "data": {
            "image/png": "[encoded data removed]",
            "text/plain": [
              "<Figure size 432x288 with 1 Axes>"
            ]
          },
          "metadata": {}
        }
      ]
    },
    {
      "cell_type": "markdown",
      "metadata": {
        "id": "Y-5ekZ_E1gvZ"
      },
      "source": [
        "#**3. Mô tả về đặc trưng**"
      ]
    },
    {
      "cell_type": "markdown",
      "metadata": {
        "id": "yY7qtN2FTNYd"
      },
      "source": [
        "Feature Extraction: bước tìm ra được các tinh hoa từ tập dữ liệu ban đầu. Ở bài toán này là các từ ngữ mang tính xúc phạm, thô tục như: đm, vcl, đĩ, ngu, ... và tần suất xuất hiện của các từ đó\n",
        "\n",
        "Vector hóa văn bản (câu comment đầu vào). Ở đây em sẽ sử dụng TF-IDF\n",
        "\n",
        "\n",
        "\n",
        "  \n",
        "\n",
        "  \n"
      ]
    },
    {
      "cell_type": "markdown",
      "metadata": {
        "id": "oLzPxB9tTfsD"
      },
      "source": [
        "##TF-IDF (Term Frequency – Inverse Document Frequency) \n",
        "Là 1 kĩ thuật sử dụng trong khai phá dữ liệu văn bản. Trọng số này được sử dụng để đánh giá tầm quan trọng của một từ trong một văn bản. Giá trị cao thể hiện độ quan trọng cao và nó phụ thuộc vào số lần từ xuất hiện trong văn bản nhưng bù lại bởi tần suất của từ đó trong tập dữ liệu. Một vài biến thể của tf-idf thường được sử dụng trong các hệ thống tìm kiếm như một công cụ chính để đánh giá và sắp xếp văn bản dựa vào truy vấn của người dùng. TF-IDF cũng được sử dụng để lọc những từ stopwords trong các bài toán như tóm tắt văn bản và phân loại văn bản."
      ]
    },
    {
      "cell_type": "markdown",
      "metadata": {
        "id": "Z3Uh06VvT0e9"
      },
      "source": [
        "##Tách từ (Words segmentation)\n",
        "Là một bước quan trọng bậc nhất trong xử lý ngôn ngữ tự nhiên. Tiếng Việt không đơn giản như tiếng anh vì nó có thêm các từ ghép. Trong tiếng anh, thường thi mỗi từ sẽ được ngăn cách bởi dấu cách với các từ khác, nhưng trong tiếng Việt thì lại khác. Ví dụ: từ \"Đất nước\" nếu không sử dụng tách từ hợp lý thì nó sẽ biết thành 2 từ, nhưng dùng tách từ thì nó sẽ là \"Đất_nươc\".\n",
        "  \n",
        "  Ví dụ:\n",
        "  temp = \"Chào các bạn tôi là một sinh viên công nghệ thông tin\"\n",
        "    \n",
        "  print NLP(text=temp).segmentation()\n",
        "\n",
        "  ->>>Chào các bạn tô là một sinh_viên công_nghệ_thông_tin"
      ]
    },
    {
      "cell_type": "code",
      "metadata": {
        "id": "5quG-Bwd1PPN",
        "colab": {
          "base_uri": "https://localhost:8080/"
        },
        "outputId": "49f013c3-c07e-4cbb-c1c3-cf9fe8356961"
      },
      "source": [
        "# Tách từ\n",
        "!pip install pyvi\n",
        "from pyvi import ViTokenizer\n",
        "class NLP(object):\n",
        "    def __init__(self, text = None):\n",
        "        self.text = text\n",
        "        #self.set_stopwords()\n",
        "\n",
        "    def segmentation(self):\n",
        "        return ViTokenizer.tokenize(self.text)\n"
      ],
      "execution_count": 9,
      "outputs": [
        {
          "output_type": "stream",
          "name": "stdout",
          "text": [
            "Collecting pyvi\n",
            "  Downloading pyvi-0.1.1-py2.py3-none-any.whl (8.5 MB)\n",
            "\u001b[K     |████████████████████████████████| 8.5 MB 7.7 MB/s \n",
            "\u001b[?25hRequirement already satisfied: scikit-learn in /usr/local/lib/python3.7/dist-packages (from pyvi) (1.0.2)\n",
            "Collecting sklearn-crfsuite\n",
            "  Downloading sklearn_crfsuite-0.3.6-py2.py3-none-any.whl (12 kB)\n",
            "Requirement already satisfied: scipy>=1.1.0 in /usr/local/lib/python3.7/dist-packages (from scikit-learn->pyvi) (1.4.1)\n",
            "Requirement already satisfied: threadpoolctl>=2.0.0 in /usr/local/lib/python3.7/dist-packages (from scikit-learn->pyvi) (3.0.0)\n",
            "Requirement already satisfied: numpy>=1.14.6 in /usr/local/lib/python3.7/dist-packages (from scikit-learn->pyvi) (1.19.5)\n",
            "Requirement already satisfied: joblib>=0.11 in /usr/local/lib/python3.7/dist-packages (from scikit-learn->pyvi) (1.1.0)\n",
            "Requirement already satisfied: six in /usr/local/lib/python3.7/dist-packages (from sklearn-crfsuite->pyvi) (1.15.0)\n",
            "Requirement already satisfied: tabulate in /usr/local/lib/python3.7/dist-packages (from sklearn-crfsuite->pyvi) (0.8.9)\n",
            "Requirement already satisfied: tqdm>=2.0 in /usr/local/lib/python3.7/dist-packages (from sklearn-crfsuite->pyvi) (4.62.3)\n",
            "Collecting python-crfsuite>=0.8.3\n",
            "  Downloading python_crfsuite-0.9.7-cp37-cp37m-manylinux1_x86_64.whl (743 kB)\n",
            "\u001b[K     |████████████████████████████████| 743 kB 49.4 MB/s \n",
            "\u001b[?25hInstalling collected packages: python-crfsuite, sklearn-crfsuite, pyvi\n",
            "Successfully installed python-crfsuite-0.9.7 pyvi-0.1.1 sklearn-crfsuite-0.3.6\n"
          ]
        }
      ]
    },
    {
      "cell_type": "code",
      "metadata": {
        "id": "sLfj1UyhpMYz"
      },
      "source": [
        "# Loại bỏ các ký tự đặc biệt\n",
        "import re, string\n",
        "\n",
        "def clean_text(text):\n",
        "  if type(text) != str:\n",
        "    return\n",
        "  else:\n",
        "    text = text.lower()\n",
        "    text = re.sub('\\[.*?]', '', text)\n",
        "    text = re.sub('[%s]' % re.escape(string.punctuation), '', text)\n",
        "    text = re.sub('\\w*\\d\\w*', '', text)\n",
        "  return text "
      ],
      "execution_count": 10,
      "outputs": []
    },
    {
      "cell_type": "markdown",
      "metadata": {
        "id": "6HhH0DhiT4na"
      },
      "source": [
        "##Xóa bỏ stopword \n",
        "   \n",
        "   Hãy tưởng tượng rằng ngôn ngữ của chúng ta giống như một đống gạo bị lẫn với thóc. Việc cần làm của trích chọn đặc trưng đó chính là chọn ra các hạt gạo chất lượng tốt nhất từ đống thóc đó. Những hạt thóc đó được gọi là stop words tức là những từ không có ý nghĩa lắm đối với việc phân loại của chúng ta.\n",
        "   Stopwords em lấy từ https://github.com/NguyenVanHieuBlog/vietnamese-stopwords/blob/master/stopwords.txt và có bổ sung thêm nhiều từ nữa để tối ưu bài toán em đang giải quyết.\n"
      ]
    },
    {
      "cell_type": "code",
      "metadata": {
        "id": "aSq9m7TMr2m3"
      },
      "source": [
        "# upload stopword\n",
        "sw =  open('/content/drive/MyDrive/stopword.txt')\n",
        "data_sw = sw.readlines()\n",
        "data_sw = [x.strip() for x in data_sw]\n",
        "\n",
        "# hàm loại stopword\n",
        "\n",
        "def del_stopword(txt):\n",
        "    t = clean_text(txt)\n",
        "    if t == '':\n",
        "        return\n",
        "    t = NLP(text=t).segmentation()\n",
        "    t = t.split()\n",
        "    tt = t\n",
        "    for x in tt:\n",
        "      if x in data_sw:\n",
        "        t.remove(x)\n",
        "    return t"
      ],
      "execution_count": 11,
      "outputs": []
    },
    {
      "cell_type": "code",
      "metadata": {
        "id": "D55LI-vW2mpL",
        "colab": {
          "base_uri": "https://localhost:8080/"
        },
        "outputId": "49b96421-4c18-4c4e-abab-6baa6c4cec9f"
      },
      "source": [
        "n = len(X)\n",
        "for i in range(n):\n",
        "    X[i] = del_stopword(X[i])\n",
        "    #X[i] = ' '.join(X[i])"
      ],
      "execution_count": 12,
      "outputs": [
        {
          "output_type": "stream",
          "name": "stderr",
          "text": [
            "/usr/local/lib/python3.7/dist-packages/ipykernel_launcher.py:3: SettingWithCopyWarning: \n",
            "A value is trying to be set on a copy of a slice from a DataFrame\n",
            "\n",
            "See the caveats in the documentation: https://pandas.pydata.org/pandas-docs/stable/user_guide/indexing.html#returning-a-view-versus-a-copy\n",
            "  This is separate from the ipykernel package so we can avoid doing imports until\n"
          ]
        }
      ]
    },
    {
      "cell_type": "code",
      "metadata": {
        "id": "qDSEFVhgUNwq",
        "colab": {
          "base_uri": "https://localhost:8080/"
        },
        "outputId": "7734f36e-da8f-4a63-81ec-59ad58b50f13"
      },
      "source": [
        "print(n)"
      ],
      "execution_count": 13,
      "outputs": [
        {
          "output_type": "stream",
          "name": "stdout",
          "text": [
            "5302\n"
          ]
        }
      ]
    },
    {
      "cell_type": "code",
      "metadata": {
        "id": "Gc7p4w_5N_-q",
        "colab": {
          "base_uri": "https://localhost:8080/"
        },
        "outputId": "21aed370-94d1-4b18-af27-ff3c969632fa"
      },
      "source": [
        "for i in range(n):\n",
        "    #X[i] = del_stopword(X[i])\n",
        "    X[i] = ' '.join(X[i])"
      ],
      "execution_count": 14,
      "outputs": [
        {
          "output_type": "stream",
          "name": "stderr",
          "text": [
            "/usr/local/lib/python3.7/dist-packages/ipykernel_launcher.py:3: SettingWithCopyWarning: \n",
            "A value is trying to be set on a copy of a slice from a DataFrame\n",
            "\n",
            "See the caveats in the documentation: https://pandas.pydata.org/pandas-docs/stable/user_guide/indexing.html#returning-a-view-versus-a-copy\n",
            "  This is separate from the ipykernel package so we can avoid doing imports until\n"
          ]
        }
      ]
    },
    {
      "cell_type": "markdown",
      "metadata": {
        "id": "ojGmm6B3TiaT"
      },
      "source": [
        "#**4. Mô tả về thuật toán máy học**\n"
      ]
    },
    {
      "cell_type": "markdown",
      "metadata": {
        "id": "Q6OBpBRtT9va"
      },
      "source": [
        "Trong phần thuật toán này, em sẽ sử dụng một số thuật toán sau để có cái nhin tổng quan xem thuật toán nào phù hợp với model nhất.\n",
        "- Naive Bayes\n",
        "- Logistic Regression\n",
        "- LinearSVC\n",
        "- Decision Tree Classifier"
      ]
    },
    {
      "cell_type": "markdown",
      "metadata": {
        "id": "j4BPHRGDT_fa"
      },
      "source": [
        "##Logistic Regression\n",
        "Phương pháp hồi quy logistic là một mô hình hồi quy nhằm dự đoán giá trị đầu ra rời rạc (discrete target variable) y ứng với một véc-tơ đầu vào x. Việc này tương đương với chuyện phân loại các đầu vào x vào các nhóm y tương ứng."
      ]
    },
    {
      "cell_type": "markdown",
      "metadata": {
        "id": "Mx7T0axnUDKj"
      },
      "source": [
        "##Naive Bayes"
      ]
    },
    {
      "cell_type": "markdown",
      "metadata": {
        "id": "pjvFrdZRUD3M"
      },
      "source": [
        "##LinearSVC"
      ]
    },
    {
      "cell_type": "markdown",
      "metadata": {
        "id": "WUCzRm_2UOqp"
      },
      "source": [
        "#**5. Cài đặt, tinh chỉnh tham số**"
      ]
    },
    {
      "cell_type": "code",
      "metadata": {
        "id": "6yVhApZB-3n-",
        "colab": {
          "base_uri": "https://localhost:8080/"
        },
        "outputId": "5e109036-122c-4fa9-e0c1-496392c328d7"
      },
      "source": [
        "'''model1 = LogisticRegression()\n",
        "model2 = MultinomialNB()\n",
        "model3 = LinearSVC()\n",
        "model4 = DecisionTreeClassifier()\n",
        "'''\n",
        "# split test:25%, train:75%\n",
        "trainX,testX,trainY,testY = train_test_split(X,Y,test_size=0.25,random_state=42)\n",
        "\n",
        "# initialize TfidfVectorizer\n",
        "# size of vocab: 50000\n",
        "# min_df: ignore terms that have a document frequency strictly lower than the given threshold\n",
        "tf = TfidfVectorizer(ngram_range=(1,2), max_features=50000, min_df=2)\n",
        "\n",
        "# transform words to vetor\n",
        "trainX = tf.fit_transform(trainX.values).toarray()\n",
        "trainVocab = tf.vocabulary_ \n",
        "tf = TfidfVectorizer(vocabulary=trainVocab)\n",
        "testX = tf.fit_transform(testX.values).toarray()\n",
        "\n",
        "print(trainVocab)"
      ],
      "execution_count": 15,
      "outputs": [
        {
          "output_type": "stream",
          "name": "stdout",
          "text": [
            "{'chúc_mừng': 448, 'ae': 5, 'nguyễn': 2646, 'tô': 3936, 'hc': 1413, 'mấy': 2406, 'thằng': 3622, 'chốt': 543, 'chặn': 498, 'đéo': 4651, 'cứ': 938, 'nó': 2974, 'chạy': 469, 'ầm_ầm': 4927, 'đua': 4583, 'xe': 4263, 'tông': 3941, 'chết': 504, 'ng': 2571, 'kiểu': 1757, 'đi': 4487, 'gì': 1348, 'mang_tiếng': 2182, 'mấy thằng': 2413, 'cứ nó': 939, 'stt': 3349, 'đoạn': 4578, 'là': 1957, 'chủ': 571, 'bánh': 134, 'tất_cả': 3972, 'mn': 2223, 'chúc': 447, 'sn': 3340, 'bạn': 182, 'đâu': 4645, 'chỉ': 522, 'cảm_ơn': 877, 'người': 2668, 'thôi': 3575, 'có': 786, 'cũng': 831, 'sai': 3299, 'chủ bánh': 572, 'thế': 3640, 'thì': 3559, 'chẳng': 494, 'đường': 4716, 'em_em': 1188, 'tôi': 3937, 'gởi': 1397, 'chồng': 545, 'khen': 1659, 'tánh': 3886, 'anh': 22, 'này': 2934, 'vậy': 4201, 'tốt': 4009, 'ca': 292, 'đôi': 4678, 'thế thì': 3644, 'chẳng gì': 496, 'đi đường': 4542, 'trash': 3758, 'bêddee': 154, 'bêddee đi': 155, 'mũi': 2354, 'to': 3713, 'cả': 867, 'ngưu': 2666, 'mũi to': 2379, 'tắt': 3981, 'mịa': 2493, 'ơi': 4891, 'nam': 2542, 'lắm': 2100, 'tắt mịa': 3988, 'mịa đi': 2495, 'đi ơi': 4545, 'ơi nam': 4894, 'nam tắt': 2543, 'tắt lắm': 3986, 'may': 2187, 'thang': 3484, 'bao': 47, 'se': 3315, 'den': 1000, 'voi': 4116, 'tui': 3860, 'no': 2890, 'tui no': 3862, 'đấy': 4739, 'biết': 75, 'rút': 3271, 'kinh_nghiệm': 1747, 'rút kinh_nghiệm': 3272, 'gấp': 1370, 'cần': 885, 'nói': 2995, 'con': 659, 'đàn_bà': 4594, 'lăng': 2061, 'lòan': 2032, 'mất_nết': 2403, 'đừng': 4874, 'tiếc': 3691, 'đời': 4854, 'còn': 771, 'người_ta': 2676, 'câu': 762, 'đĩ': 4695, 'làm': 1980, 'vợ': 4229, 'ai': 10, 'con_người': 686, 'hạnh_phúc': 1569, 'tay': 3470, 'trân_trọng': 3790, 'sau_này': 3310, 'bị': 235, 'quả_báo': 3212, 'gấp cần': 1371, 'cần nói': 886, 'nói gì': 2998, 'gì con': 1351, 'con đàn_bà': 677, 'đàn_bà lăng': 4601, 'lăng lòan': 2063, 'lòan mất_nết': 2033, 'mất_nết đừng': 2405, 'đừng tiếc': 4884, 'tiếc ơi': 3692, 'ơi đời': 4898, 'đời còn': 4855, 'còn đàn_bà': 784, 'đàn_bà lắm': 4602, 'lắm người_ta': 2104, 'người_ta câu': 2677, 'câu đĩ': 763, 'đĩ làm': 4702, 'làm vợ': 1989, 'vợ ai': 4230, 'ai vợ': 13, 'vợ làm': 4235, 'làm đĩ': 1992, 'đĩ con_người': 4697, 'con_người hạnh_phúc': 688, 'hạnh_phúc tay': 1570, 'tay trân_trọng': 3472, 'trân_trọng sau_này': 3791, 'sau_này bị': 3311, 'bị quả_báo': 237, 'bo': 87, 'di_ban': 1007, 'co': 649, 'dung': 1063, 'nuoi': 2920, 'phan': 3110, 'la': 1827, 'nguoi': 2638, 'tot': 3733, 'la nguoi': 1833, 'nguoi tot': 2641, 'said': 3302, 'đuma': 4584, 'tao': 3456, 'gét': 1344, 'ttt': 3858, 'said đuma': 3303, 'đuma tao': 4585, 'tao gét': 3460, 'gét ttt': 1345, 'trần': 3831, 'dũng': 1104, 'boom': 101, 'nhiêu': 2741, 'tiền': 3697, 'bị boom': 236, 'dẹo': 1136, 'con đĩ': 678, 'đĩ dẹo': 4699, 'gọi': 1377, 'lộc': 2139, 'quỷ': 3223, 'facebook': 1194, 'việt': 4092, 'đánh': 4630, 'sập': 3395, 'đồ': 4834, 'mua': 2247, 'bán': 133, 'online': 3084, 'để': 4797, 'rồi': 3290, 'kkk': 1767, 'phụ': 3158, 'hồ': 1613, 'việt nam': 4093, 'là phụ': 1971, 'đeo': 4478, 'áp': 4399, 'bồ': 270, 'má': 2306, 'ơiiii': 4903, 'đeo áp': 4483, 'áp bồ': 4400, 'vãi': 4149, 'nên': 2971, 'đăng_kí': 4692, 'điện_thoại': 4561, 'quan_trọng': 3178, 'page': 3085, 'vcl': 4075, 'page trash': 3096, 'trash vcl': 3759, 'tin_tức': 3688, 'lon': 1904, 'kêu': 1808, 'đây': 4646, 'thì tao': 3564, 'thành': 3544, 'đm': 4568, 'báo': 140, 'vs': 4120, 'chí': 425, 'moá': 2240, 'đọc': 4822, 'tức': 4030, 'thay': 3493, 'đọc tức': 4826, 'tức thay': 4033, 'bo trần': 94, 'ráng': 3261, 'kìa': 1813, 'pha': 3104, 'xử_lý': 4351, 'đẹp': 4774, 'ngủ': 2702, 'trai': 3741, 'bỏ_mẹ': 254, 'dâm': 1080, 'tac': 3447, 'pha xử_lý': 3105, 'xử_lý đẹp': 4353, 'đẹp vợ': 4781, 'vợ ngủ': 4237, 'ngủ trai': 2705, 'trai bỏ_mẹ': 3743, 'bỏ_mẹ đi': 257, 'đi đồ': 4543, 'đồ đàn_bà': 4842, 'đàn_bà dâm': 4597, 'dâm tac': 1081, 'câm': 758, 'moẹ': 2242, 'mồm': 2510, 'câm moẹ': 760, 'moẹ mồm': 2243, 'mồm đi': 2516, 'lấy': 2087, 'búa': 178, 'đập': 4760, 'dô': 1094, 'mặt': 2438, 'wa': 4248, 'lấy búa': 2088, 'búa đập': 179, 'đập dô': 4762, 'dô mặt': 1098, 'mặt wa': 2457, 'tin': 3687, 'theo': 3503, 'nó đi': 2992, 'hoàng': 1458, 'vũ': 4187, 'cũng đẹp': 838, 'điệu': 4563, 'nhìn': 2802, 'hơi': 1550, 'ghét': 1220, 'lol': 1895, 'sống': 3409, 'lỗi': 2137, 'vkl': 4101, 'sống lỗi': 3410, 'triệu': 3771, 'dân': 1083, 'ngu': 2631, 'cu': 696, 'đen': 4477, 'ngày_càng': 2661, 'đảng': 4734, 'viện': 4091, 'mẹ': 2469, 'mày': 2293, 'đĩ mẹ': 4705, 'mẹ mày': 2475, 'sao': 3307, 'tưởng': 3953, 'goviet': 1331, 'đặt': 4772, 'lần': 2097, 'đợi': 4858, 'giao': 1247, 'xong': 4290, 'đc': 4460, 'cho': 371, 'lương': 2069, 'ông': 4418, 'chục': 569, 'căn_hộ': 824, 'eo': 1193, 'ảnh': 4917, 'xinh': 4278, 'live': 1865, 'stream': 3347, 'sưng': 3382, 'kia': 1724, 'live stream': 1867, 'bị sưng': 238, 'toàn': 3734, 'hàm_răng': 1487, 'toàn hàm_răng': 3736, 'thả': 3593, 'thính': 3571, 'lone': 1910, 'thả thính': 3595, 'thính đồ': 3572, 'đồ lone': 4839, 'coi': 653, 'hơn': 1555, 'tí': 3924, 'bay': 54, 'ui': 4048, 'tr': 3739, 'vo': 4112, 'noi': 2905, 'quen': 3189, 'nhu': 2756, 'the': 3496, 'lien': 1857, 'og': 3075, 'vo no': 4114, 'nhu the': 2758, 'alo': 16, 'vân': 4144, 'chó': 431, 'trời': 3851, 'một': 2521, 'dau': 987, 'đó': 4672, 'giải_thích': 1280, 'chi': 360, 'đánh một': 4635, 'giải_thích chi': 1281, 'mình': 2338, 'bật': 208, 'kinh': 1743, 'phật': 3153, 'đạo': 4730, 'nghe': 2584, 'thái': 3548, 'đổ': 4844, 'bả': 187, 'đẹp_mặt': 4783, 'nc': 2552, 'đúng': 4685, 'cười': 853, 'shipper': 3325, 'oder': 3074, 'món': 2343, 'tại': 3959, 'quán': 3201, 'thiệt': 3513, 'các': 726, 'van': 4063, 'chiêu': 366, 'tương_lai': 3951, 'nghề': 2607, 'nhái': 2782, 'giọng': 1299, 'dọ': 1165, 'nhái giọng': 2783, 'giọng nam': 1307, 'oi': 3076, 'hay': 1408, 'chuan': 392, 'luon': 1938, 'noi hay': 2909, 'mỏ': 2501, 'lồn': 2119, 'mỏ mỏ': 2506, 'mỏ lồn': 2504, 'cố': 910, 'tâm': 3893, 'nhạt': 2832, 'qá': 3227, 'nhạt qá': 2833, 'đêm': 4664, 'nắm': 3026, 'quỳnh': 3220, 'khổ': 1722, 'ghia': 1219, 'thư': 3588, 'heloo': 1419, 'bé': 147, 'gái': 1337, 'già_mồm': 1258, 'như': 2811, 'đáng': 4626, 'sử': 3428, 'quá': 3194, 'ko': 1770, 'tài_sản': 3876, 'dĩ': 1102, 'về': 4211, 'gái đĩ': 1341, 'đĩ già_mồm': 4700, 'già_mồm như': 1262, 'như mày': 2817, 'mày đáng': 2305, 'đáng mẹ': 4627, 'mẹ con': 2470, 'con mày': 666, 'mày sử': 2300, 'sử quá': 3431, 'quá đừng': 3198, 'đừng con': 4876, 'con ko': 664, 'ko nó': 1788, 'nó tài_sản': 2991, 'tài_sản bạn': 3877, 'bạn đấy': 183, 'đấy người_ta': 4744, 'người_ta lấy': 2678, 'lấy dĩ': 2091, 'dĩ làm': 1103, 'vợ ko': 4233, 'ko là': 1781, 'là lấy': 1964, 'lấy vợ': 2092, 'vợ về': 4240, 'về làm': 4212, 'thoi': 3518, 'buoi': 107, 'danh': 980, 'ghen': 1216, 'roi': 3241, 'ck': 609, 'xu': 4293, 'ly': 1949, 'vk': 4096, 'ma': 2165, 'cãi': 765, 'nhat': 2726, 'nen': 2565, 'cam': 312, 'ck xu': 619, 'xu ly': 4294, 'thk': 3515, 'huỳnh': 1471, 'kiến': 1750, 'phong': 3113, 'thk lol': 3516, 'lol huỳnh': 1897, 'huỳnh nguyễn': 1472, 'nguyễn kiến': 2648, 'kiến phong': 1751, 'hiii': 1429, 'hiếu': 1433, 'cmm': 640, 'cute': 711, 'mà': 2271, 'du': 1047, 'động': 4851, 'cái': 731, 'phò': 3126, 'nhà': 2768, 'chúng_nó': 454, 'hại': 1564, 'mắt': 2427, 'vl': 4102, 'hại mắt': 1566, 'mắt vl': 2434, 'văn': 4181, 'chiến': 368, 'ny': 2927, 'nguyễn văn': 2657, 'ngày': 2659, 'vui': 4123, 'thứ': 3668, 'cô_hồn': 802, 'bắt': 218, 'thanh_toán': 3490, 'trc': 3760, 'mới': 2528, 'chị': 525, 'app': 35, 'ko chị': 1772, 'điên': 4556, 'đĩ điên': 4711, 'kệ': 1819, 'cx': 719, 'tạm': 3964, 'chấp_nhận': 482, 'xl': 4288, 'kệ đi': 1823, 'tạm chấp_nhận': 3965, 'nhưloz': 2827, 'thị': 3658, 'duyên': 1071, 'làm_sao': 1998, 'qua': 3174, 'cuộc_đời': 718, 'nguyễn thị': 2655, 'địt_mẹ': 4818, 'share': 3321, 'bò': 172, 'khinh': 1663, 'thì mày': 3563, 'bự': 288, 'mũi bự': 2359, 'bự mũi': 289, 'mũi bò': 2357, 'dừa': 1175, 'ống': 4934, 'dơ': 1106, 'bảo': 191, 'vào': 4136, 'ăn': 4431, 'cứt': 945, 'cách': 728, 'nhất': 2841, 'nhiều': 2742, 'trả': 3826, 'sản_xuất': 3392, 'chồng quá': 554, 'quá còn': 3195, 'còn này': 776, 'này gái': 2941, 'già_mồm bảo': 1259, 'bảo đây': 196, 'đây ko': 4647, 'ko gì': 1776, 'gì ko': 1352, 'gì vào': 1356, 'vào đấy': 4138, 'đấy ăn': 4746, 'ăn cứt': 4434, 'cứt cách': 946, 'cách nhất': 729, 'nhất ông': 2842, 'ông chồng': 4419, 'chồng ko': 549, 'ko nhiều': 1785, 'nhiều trả': 2749, 'trả về': 3827, 'về sản_xuất': 4214, 'fb': 1203, 'đằng': 4770, 'đạo_đức': 4732, 'giả': 1273, 'đạo_đức giả': 4733, 'cj': 603, 'cj tâm': 608, 'dm': 1033, 'cứu': 947, 'đó kiểu': 4673, 'kiểu dm': 1759, 'dm cứu': 1034, 'cứu này': 948, 'này bị': 2936, 'bị điên': 240, 'ơiii': 4902, 'thích': 3570, 'vẽ': 4208, 'lo_sợ': 1888, 'với': 4222, 'lợn': 2160, 'ngta': 2625, 'tải': 3969, 'nội': 3047, 'ngta tải': 2629, 'tải chi': 3970, 'chuẩn_bị': 401, 'drama': 1044, 'giết': 1294, 'dao': 984, 'loại': 1925, 'hư': 1556, 'thúi': 3585, 'sọt': 3406, 'rác': 3248, 'không': 1700, 'xứng_đáng': 4348, 'em': 1182, 'giết chết': 1295, 'loại đàn_bà': 1930, 'đàn_bà hư': 4598, 'hư thúi': 1559, 'sọt rác': 3407, 'không xứng_đáng': 1707, 'trước': 3822, 'sau': 3309, 'thời_gian': 3667, 'hi_vọng': 1422, 'cũng đc': 835, 'kì': 1811, 'mỹ': 2540, 'òi': 4407, 'thee': 3501, 'to thee': 3719, 'me': 2193, 'mầy': 2418, 'lol me': 1898, 'me mầy': 2196, 'nhục': 2866, 'mặt sưng': 2453, 'loz': 1916, 'mẹ loz': 2473, 'xàm': 4301, 'kem': 1650, 'nhắc': 2848, 'cái bánh': 732, 'bánh kem': 135, 'cái page': 743, 'chúng': 450, 'chửi': 588, 'chúng chửi': 451, 'trâu': 3792, 'mũi trâu': 2382, 'trâu em': 3793, 'trả_lời': 3828, 'thêm': 3558, 'xử_phạt': 4354, 'bọn': 243, 'thất_đức': 3606, 'vô_học': 4173, 'nữa': 3065, 'cũng_nên': 839, 'yêu_cầu': 4369, 'trong': 3775, 'đăng_ký': 4693, 'tài': 3873, 'súc_sinh': 3376, 'đứng': 4871, 'dc': 991, 'phải': 3150, 'dạng': 1122, 'này phải': 2945, 'luôn': 1941, 'dcm': 993, 'rảnh': 3281, 'ngáo': 2662, 'bắt cho': 219, 'mong': 2234, 'bài_học': 124, 'tâm mũi': 3902, 'lưỡi': 2072, 'lè': 2013, 'miết': 2214, 'cún': 815, 'đầu_thai': 4753, 'lưỡi lè': 2073, 'lè lè': 2014, 'lè miết': 2016, 'miết tưởng': 2215, 'tưởng cún': 3956, 'cún đầu_thai': 816, 'đầu_thai ko': 4754, 'chứ': 581, 'tim': 3685, 'nịnh': 3036, 'mệt': 2489, 'giải_thích mệt': 1282, 'khẩu_trang': 1713, 'che': 353, 'đeo khẩu_trang': 4482, 'khẩu_trang che': 1714, 'che mũi': 355, 'tâm xinh': 3906, 'my': 2268, 'chai': 346, 'sting': 3345, 'vô': 4163, 'đầu': 4747, 'nha_thầy': 2724, 'chai sting': 347, 'sting vô': 3346, 'vô đầu': 4168, 'dô duyên': 1097, 'tuyệt_vời': 3867, 'năm': 3013, 'ck tuyệt_vời': 618, 'chang': 348, 'lôi': 2043, 'loai': 1889, 'dan': 965, 'vứt': 4243, 'biển': 81, 'nhien': 2733, 'tốn': 4006, 'lo': 1884, 'danh chết': 982, 'chết loai': 512, 'loai dan': 1890, 'dan vứt': 974, 'vứt biển': 4244, 'biển dung': 82, 'dung nhien': 1066, 'nhien tốn': 2734, 'tốn ca': 4007, 'ca lo': 294, 'ghê_vl': 1226, 'toe_toét': 3726, 'buồn': 114, 'cc': 332, 'toe_toét buồn': 3727, 'buồn cc': 115, 'chết đi': 518, 'hoa': 1441, 'việc': 4090, 'óc': 4408, 'nó nhiều': 2987, 'mà là': 2276, 'óc chó': 4409, 'hiền': 1434, 'thương': 3590, 'rô': 3266, 'nựng': 3069, 'người_ta rô': 2679, 'rô nựng': 3267, 'nựng cu': 3070, 'dễ_thương': 1157, 'add': 4, 'th': 3475, 'kêu add': 1809, 'xinh vl': 4283, 'fuckboyz': 1208, 'này fuckboyz': 2940, 'ta': 3441, 'trân': 3789, 'nó giả': 2983, 'hiện': 1437, 'kênh': 1807, 'dân_tộc': 1086, 'lên': 2025, 'ơn': 4909, 'dân_tộc việt': 1087, 'bố': 263, 'đàn_ông': 4612, 'đàn': 4593, 'cmn': 641, 'chất': 486, 'sợ': 3413, 'bố bảo': 264, 'cmn đi': 643, 'clm': 634, 'tự_nhiên': 4043, 'fl': 1205, 'clm tự_nhiên': 635, 'tự_nhiên bắt': 4044, 'bắt đi': 225, 'đi fl': 4498, 'xấu': 4338, 'lúc': 2050, 'trứng': 3852, 'rán': 3257, 'trứng rán': 3854, 'thầy': 3615, 'xạo': 4328, 'nè': 2958, 'xạo lol': 4330, 'dep': 1001, 'that': 3492, 'uầy': 4058, 'zl': 4380, 'lỗ': 2135, 'lỗ mũi': 2136, 'fan': 1199, 'cứng': 941, 'đụ': 4859, 'fan cứng': 1200, 'cứng tưởng': 943, 'tưởng cu': 3955, 'cu cứng': 699, 'cứng đụ': 944, 'đụ má': 4861, 'ngục': 2701, 'huỳnh thư': 1473, 'ngu ngục': 2636, 'ship': 3323, 'hướng': 1563, 'thử': 3672, 'tế': 3994, 'mắc': 2421, 'ỉa': 4928, 'yêu': 4361, 'mắc ỉa': 2424, 'nứng': 3054, 'liền': 1878, 'trai là': 3746, 'cbi': 330, 'nge': 2582, 'mày xạo': 2303, 'xạo lon': 4331, 'học': 1601, 'học phò': 1604, 'phò có': 3127, 'đem': 4475, 'ad': 2, 'nhà_nước': 2774, 'quản_lí': 3213, 'theo_dõi': 3504, 'thằng chó': 3625, 'chó ad': 432, 'dần': 1127, 'trần dần': 3833, 'nhím': 2807, 'xù': 4320, 'lông': 2046, 'mò': 2340, 'nhím xù': 2809, 'xù lông': 4321, 'rách': 3255, 'anti': 32, 'cmt': 645, 'chúng_mày': 453, 'tạo': 3966, 'phốt': 3157, 'đọc cmt': 4823, 'thì bảo': 3560, 'hả_hê': 1576, 'đăng': 4689, 'ca_sĩ': 296, 'nhạc': 2829, 'bẩn': 203, 'hả_hê trc': 1577, 'trc toàn': 3761, 'toàn đăng': 3738, 'đăng ca_sĩ': 4690, 'ca_sĩ ca_sĩ': 297, 'ca_sĩ kia': 298, 'kia đạo': 1736, 'đạo nhạc': 4731, 'nhạc page': 2831, 'page bẩn': 3086, 'hả': 1572, 'sưng hả': 3383, 'trên': 3799, 'youtube': 4360, 'ngoại_tình': 2619, 'met': 2202, 'đánh nó': 4637, 'mê': 2334, 'uppp': 4051, 'po': 3166, 'kiếm': 1748, 'khác': 1683, 'khác đi': 1685, 'kiếp': 1752, 'uống': 4059, 'canh': 319, 'bà': 120, 'vẫn': 4198, 'tính': 3927, 'ăn_vụng': 4443, 'hy_vọng': 1476, 'làm chó': 1982, 'sinh': 3333, 'tuổi': 3870, 'ước': 4915, 'dây': 1088, 'tắt mẹ': 3987, 'mẹ live': 2472, 'live đi': 1869, 'đi chị': 4494, 'diên': 1021, 'iu': 1643, 'dô diên': 1096, 'xloi': 4289, 'tao tao': 3466, 'tao đéo': 3467, 'nhieu': 2735, 'lam': 1837, 'me no': 2197, 'no đi': 2900, 'dẹp': 1148, 'răng': 3275, 'nạo': 3019, 'dẹp răng': 1149, 'răng nạo': 3276, 'nạo dừa': 3020, 'dừa chị': 1176, 'cô': 799, 'chuyện': 399, 'xảy': 4337, 'nể': 3033, 'thời': 3666, 'cạn_lời': 865, 'hả trời': 1575, 'bom': 99, 'đơn': 4713, 'xấu vãi': 4343, 'xaolol': 4259, 'xin_lỗi': 4272, 'chưa': 464, 'gai': 1210, 'ói': 4411, 'tóc': 3929, 'cũ': 828, 'tóc cũ': 3931, 'bằng_chứng': 228, 'rỏ': 3289, 'quyền': 3192, 'nui': 2917, 'nể ck': 3034, 'đéo có': 4653, 'bú': 175, 'bú cu': 176, 'cl': 624, 'thanh_minh': 3488, 'lại': 2081, 'ra': 3231, 'xin_lỗi cl': 4273, 'facebook đi': 1195, 'minh': 2207, 'máu': 2318, 'dồn': 1168, 'não': 2956, 'nhím minh': 2808, 'minh em': 2208, 'em đi': 1187, 'đi ngủ': 4516, 'ngủ trước': 2706, 'trước máu': 3823, 'máu dồn': 2320, 'dồn não': 1169, 'cầu': 888, 'nữ': 3063, 'nứng lol': 3056, 'ưa': 4910, 'đếy': 4791, 'ngta đéo': 2630, 'đéo ưa': 4661, 'ưa đếy': 4912, 'lộn': 2141, 'nhục_nhã': 2871, 'hùa': 1547, 'chửi_bới': 596, 'dừng': 1177, 'được': 4721, 'trẻ': 3840, 'hùa chửi_bới': 1548, 'chửi_bới người_ta': 597, 'xem': 4265, 'hok': 1449, 'kg': 1652, 'vợ kg': 4232, 'gọi sợ': 1384, 'bớt': 278, 'hộ': 1621, 'chị_em': 537, 'bớt dẹo': 282, 'dẹo hộ': 1140, 'hít': 1530, 'không_khí': 1709, 'to hít': 3715, 'hít không_khí': 1531, 'không_khí ng': 1710, 'ng rồi': 2572, 'tuyet': 3865, 'vay': 4069, 'thi': 3506, 'tro': 3773, 'nha': 2717, 'nha no': 2720, 'no luon': 2895, 'tỉnh_ngủ': 3998, 'kiểu cũng': 1758, 'cũng đăng': 836, 'hàng': 1494, 'thức': 3671, 'thay_đổi': 3495, 'và': 4130, 'có_thể': 797, 'cty': 695, 'mxh': 2267, 'chặt': 502, 'như_vậy': 2824, 'giao hàng': 1248, 'hàng có': 1495, 'đùa': 4684, 'chớn': 563, 'là nữ': 1970, 'là nam': 1967, 'cave': 326, 'mãi': 2328, 'dth': 1046, 'man': 2178, 'giọng kia': 1305, 'liên_quan': 1872, 'đóng': 4676, 'thuế': 3540, 'môi_trường': 2345, 'ô_nhiễm': 4413, 'hết': 1592, 'phục_vụ': 3164, 'môi': 2344, 'thằng ngu': 3632, 'tiền thuế': 3701, 'mẹ vl': 2483, 'nhe': 2729, 'vậy_mà': 4204, 'học_sinh': 1605, 'trường': 3824, 'phạm': 3144, 'hồng': 1616, 'xúc_phạm': 4324, 'kh': 1655, 'chs': 388, 'cj iu': 606, 'cặc': 898, 'chắcanh': 490, 'nợ': 3052, 'như_vầy': 2822, 'song': 3343, 'cho_xong': 379, 'xã_hội': 4312, 'gia_đình': 1240, 'chắcanh nợ': 491, 'nợ như_vầy': 3053, 'như_vầy song': 2823, 'song roi': 3344, 'roi nó': 3243, 'nó cho_xong': 2977, 'cho_xong nha': 380, 'nha loại': 2719, 'loại này': 1927, 'này làm': 2943, 'làm dơ': 1983, 'dơ xã_hội': 1107, 'xã_hội gia_đình': 4313, 'gia_đình anh': 1241, 'anh nha': 28, 'day': 989, 'wtf': 4253, 'dang': 975, 'cai': 303, 'gi': 1229, 'day wtf': 990, 'wtf tao': 4254, 'tao dang': 3459, 'dang cai': 976, 'cai gi': 304, 'gi vay': 1234, 'lô': 2037, 'lôn': 2045, 'lô lôn': 2041, 'lớn_lao': 2145, 'tặc': 3989, 'oi con': 3077, 'con đi': 675, 'đi mặt': 4511, 'mặt là': 2446, 'là dâm': 1962, 'dâm tặc': 1082, 'chả': 473, 'tôn': 3939, 'lầm': 2094, 'chả chị': 474, 'chị tôn': 535, 'tôn lầm': 3940, 'lầm nghe': 2095, 'nghe chửi': 2585, 'tiên_tri': 3690, 'lũ': 2065, 'nhảm': 2838, 'đọc em': 4824, 'cái là': 735, 'cay': 329, 'cú': 814, 'rep': 3239, 'chửi quá': 595, 'trông': 3809, 'nhân': 2787, 'tội': 4016, 'chàng': 405, 'tội chàng': 4017, 'chàng trai': 406, 'thuê': 3530, 'thuê đuma': 3533, 'mai': 2172, 'lớp': 2149, 'kiểm_tra': 1756, 'tiết': 3696, 'bài': 123, 'anh_hùng': 30, 'ngô': 2664, 'bình': 161, 'đề': 4794, 'xamlol': 4257, 'vỡ': 4226, 'lìn': 2031, 'trang': 3754, 'thu': 3520, 'hoang': 1443, 'ch': 342, 'hoang may': 1445, 'nhung': 2764, 'ấy': 4926, 'nào': 2930, 'vàng': 4135, 'les': 1853, 'les đi': 1854, 'ốm': 4930, 'mũi ốm': 2391, 'ốm hả': 4931, 'daaaaa': 959, 'daaaaa đĩ': 960, 'đĩ chó': 4696, 'đt': 4579, 'gần': 1372, 'mặt xấu': 2458, 'xấu vl': 4342, 'ôi': 4414, 'muốn': 2257, 'banh': 44, 'chán': 412, 'cặc cô_hồn': 899, 'cô_hồn lồn': 803, 'lồn nhà_nước': 2125, 'nhà_nước đéo': 2776, 'đéo đéo': 4660, 'đéo muốn': 4654, 'muốn banh': 2258, 'banh banh': 45, 'banh mà': 46, 'mà chán': 2272, 'chj': 370, 'gọi đi': 1387, 'đi chj': 4492, 'vãi lồn': 4155, 'thèm': 3553, 'cập': 889, 'xớm': 4346, 'muộn': 2263, 'củng': 934, 'ckck': 621, 'bỏ': 249, 'trái': 3787, 'ớt': 4939, 'nhiển': 2751, 'nhét': 2798, 'lổ': 2132, 'sâu': 3371, 'ok': 3079, 'này wa': 2946, 'wa đường': 4249, 'đường ng': 4718, 'ng thèm': 2574, 'thèm cập': 3554, 'cập thì': 891, 'thì xớm': 3566, 'xớm muộn': 4347, 'muộn củng': 2264, 'củng anh': 935, 'anh ckck': 26, 'ckck đc': 622, 'đc cập': 4463, 'cập bồ': 890, 'bồ nó': 271, 'nó bỏ': 2976, 'bỏ trái': 252, 'trái ớt': 3788, 'ớt sai': 4940, 'sai nhiển': 3300, 'nhiển nhét': 2752, 'nhét vô': 2799, 'vô lổ': 4165, 'lổ sâu': 2133, 'sâu ok': 3372, 'ok xong': 3080, 'cđ': 826, 'những': 2876, 'sai_lầm': 3301, 'hành_động': 1498, 'vô_duyên': 4171, 'nhưng': 2828, 'phút': 3137, 'suy_nghĩ': 3364, 'chủ_nhân': 575, 'bỏ_qua': 259, 'nó là': 2985, 'chủ_nhân bánh': 576, 'thân_thiện': 3551, 'tui tui': 3863, 'tui buồn': 3861, 'buồn lắm': 117, 'douma': 1042, 'lz': 1952, 'douma đĩ': 1043, 'đĩ xạo': 4710, 'xạo lz': 4332, 'nguyên': 2643, 'vừa': 4245, 'mồm vừa': 2515, 'chuỵn': 403, 'zô': 4385, 'ziên': 4379, 'má chuỵn': 2307, 'chuỵn zô': 404, 'zô ziên': 4386, 'hy': 1474, 'nhật': 2846, 'cỡ': 927, 'hy nhật': 1475, 'nhật mũi': 2847, 'mũi cỡ': 2363, 'làm_ăn': 2001, 'cư_xử': 848, 'lập': 2099, 'nơi': 3015, 'sản': 3390, 'một_cách': 2524, 'khéo': 1691, 'xấu_hổ': 4344, 'đàn_bà bỏ': 4596, 'cường': 863, 'địt': 4814, 'con_mẹ': 683, 'công_an': 808, 'sản_phẩm': 3391, 'cộng_sản': 918, 'đào_tạo': 4619, 'địt con_mẹ': 4815, 'ghi': 1217, 'mày ghi': 2295, 'ghi ng': 1218, 'ng ta': 2573, 'ta gọi': 3442, 'gọi đó': 1389, 'thế_giới': 3646, 'biết_đâu': 80, 'thật': 3618, 'đáng sợ': 4629, 'mé': 2330, 'xạo xạo': 4334, 'hô': 1537, 'mỏ hô': 2502, 'tình': 3922, 'tuân_thủ': 3868, 'pháp_luật': 3117, 'phụ_nữ': 3159, 'thấy': 3607, 'đang': 4452, 'bắn': 213, 'trúng': 3814, 'hai': 1402, 'đích': 4666, 'lời_nói': 2152, 'vì': 4160, 'đan': 4449, 'dam': 963, 'cung': 706, 'nay': 2550, 'mat': 2184, 'net': 2567, 'vay bo': 4070, 'bo me': 90, 'dan nay': 970, 'nay mat': 2551, 'mat net': 2186, 'trẩu': 3837, 'cơ_mà': 844, 'ác': 4390, 'ác vl': 4391, 'hài': 1482, 'khỏi': 1718, 'concac': 690, 'điện': 4560, 'gọi điện': 1388, 'chó ko': 435, 'sdt': 3314, 'ad che': 3, 'che sdt': 356, 'mỡ': 2534, 'bắp': 216, 'bơ': 180, 'cớ': 924, 'cậu': 892, 'rán mỡ': 3259, 'mỡ bắp': 2535, 'bắp bơ': 217, 'bơ yêu': 181, 'yêu cớ': 4366, 'cớ cần': 925, 'chủi': 579, 'nungl': 2918, 'hứa_hẹn': 1627, 'góp_ý': 1361, 'block': 84, 'cô bé': 800, 'bé chủi': 148, 'chủi nungl': 580, 'nungl đm': 2919, 'đm xin_lỗi': 4575, 'xin_lỗi hứa_hẹn': 4274, 'hứa_hẹn góp_ý': 1628, 'góp_ý block': 1362, 'block dơ': 85, 'lăng_loàn': 2064, 'đồ lăng_loàn': 4840, 'tâm đẹp': 3910, 'đại': 4725, 'tội đại': 4020, 'đẹp vl': 4780, 'ham': 1405, 'lớn': 2144, 'bày_đặt': 129, 'nói_chuyện': 3004, 'đách': 4620, 'hyy': 1478, 'nói_chuyện đách': 3009, 'đách lồn': 4621, 'lồn hyy': 2123, 'mạng': 2397, 'hải': 1578, 'quan_tâm': 3179, 'đọc mấy': 4825, 'thằng mà': 3630, 'đi ỉa': 4547, 'đcm': 4471, 'tha': 3476, 'dùm': 1099, 'đcm tha': 4473, 'tha dùm': 3477, 'thử_thách': 3673, 'đk': 4566, 'ghê': 1221, 'mũi ghê': 2366, 'hạnh': 1568, 'giỏi': 1315, 'ak': 15, 'rán đi': 3260, 'nầy': 3024, 'ròi': 3265, 'bây_giờ': 145, 'gieo': 1249, 'gặp': 1374, 'hạn': 1567, 'nà': 2929, 'zay': 4378, 'đi với': 4535, 'với thằng': 4224, 'thằng nầy': 3633, 'nó nó': 2989, 'cho_nên': 378, 'lạ': 2078, 'viết': 4087, 'chính_tả': 429, 'buồi': 111, 'đầu buồi': 4749, 'buồi tâm': 113, 'đẹp lắm': 4779, 'trò_chuyện': 3806, 'vẻ': 4206, 'ta vẻ': 3444, 'vẻ dễ_thương': 4207, 'dễ_thương trông': 1158, 'trông kinh': 3810, 'kinh vl': 1744, 'lý': 2053, 'sử lý': 3429, 'vll': 4108, 'lê': 2023, 'hà': 1479, 'ngoc': 2610, 'ngọc': 2690, 'hồng hà': 1618, 'phạm ngọc': 3145, 'tài_giỏi': 3874, 'sáng_tạo': 3366, 'mở': 2533, 'bánh_tráng': 139, 'anh chuẩn_bị': 23, 'dũng_cảm': 1105, 'cải': 869, 'bắt ghen': 220, 'con vợ': 674, 'vợ cải': 4231, 'sủa': 3424, 'sủa ngu': 3425, 'nói cho': 2996, 'diễm': 1022, 'thúy': 3586, 'xinh chị': 4279, 'trung': 3778, 'con chó': 661, 'bỏ_tù': 261, 'bỏ_tù vừa': 262, 'can': 316, 'tinh': 3689, 'tiep': 3681, 'cai loai': 306, 'nhu vay': 2759, 'vay ma': 4072, 'la dung': 1831, 'phương': 3139, 'đột': 4852, 'lốt': 2117, 'quỳnh_trang': 3222, 'mai phương': 2174, 'phương quỷ': 3142, 'quỷ đột': 3226, 'đột lốt': 4853, 'lốt page': 2118, 'bẩn nguyễn': 204, 'nguyễn quỳnh_trang': 2653, 'giúp': 1271, 'giúp với': 1272, 'mỗi': 2520, 'phạm văn': 3147, 'văn lộc': 4182, 'như lol': 2814, 'hùng': 1549, 'chat': 350, 'myann': 2269, 'linh': 1860, 'ác_độc': 4393, 'mà_lại': 2288, 'giới': 1319, 'bây': 142, 'vô_cảm': 4169, 'nguyễn myann': 2649, 'myann hà': 2270, 'hà linh': 1480, 'linh ác_độc': 1861, 'ác_độc mà_lại': 4394, 'mà_lại page': 2289, 'page giới': 3088, 'giới trẻ': 1320, 'trẻ bảo': 3842, 'bảo ng': 194, 'ng trẻ': 2575, 'trẻ bây': 3841, 'bây vô_cảm': 144, 'vô_cảm thế': 4170, 'ah': 6, 'tang': 3455, 'đứng_tuổi': 4873, 'trọc': 3847, 'tu': 3859, 'chữ': 598, 'tàu': 3881, 'của': 932, 'chính': 427, 'đã': 4650, 'ưi': 4913, 'luyện': 1939, 'tù': 3942, 'luyện đi': 1940, 'đi tù': 4532, 'gọi nó': 1383, 'nó chửi': 2979, 'chửi mn': 591, 'mn đi': 2225, 'châu': 418, 'lai': 1834, 'ik': 1635, 'đù': 4682, 'bữa_nay': 287, 'bết': 230, 'kẻ': 1816, 'to_thế': 3723, 'mũi to_thế': 2380, 'nuôi': 2923, 'ngọc nguyễn': 2695, 'gửi': 1398, 'kiện': 1765, 'rác_rưởi': 3251, 'cảm_thấy': 874, 'may_mắn': 2189, 'từ': 4034, 'giờ': 1322, 'hề': 1595, 'like': 1858, 'bịa_đặt': 241, 'nếu': 3031, 'dễ_dàng': 1155, 'dắt_mũi': 1134, 'làm_sao gửi': 1999, 'gửi đơn': 1399, 'đơn kiện': 4714, 'kiện page': 1766, 'page rác_rưởi': 3094, 'rác_rưởi thế': 3254, 'thế mn': 3643, 'mn cảm_thấy': 2224, 'cảm_thấy may_mắn': 875, 'may_mắn từ': 2191, 'từ giờ': 4035, 'giờ chưa': 1323, 'chưa hề': 466, 'hề like': 1596, 'like page': 1859, 'page và': 3097, 'và ko': 4132, 'gì những': 1354, 'những viết': 2881, 'viết bịa_đặt': 4088, 'bịa_đặt rác_rưởi': 242, 'rác_rưởi page': 3253, 'page nếu': 3092, 'nếu ko': 3032, 'ko dễ_dàng': 1774, 'dễ_dàng dắt_mũi': 1156, 'dắt_mũi rồi': 1135, 'da': 953, 'do': 1037, 'bo_di': 98, 'da do': 956, 'do bo_di': 1038, 'pai': 3101, 'choi': 382, 'vao': 4066, 'cuoc': 708, 'gd': 1214, 'khac': 1656, 'mo': 2227, 'mieng': 2205, 'doi': 1040, 'than': 3483, 'nua': 2914, 'chu': 389, 'nguoi khac': 2639, 'buồn_cười': 118, 'mất_ngủ': 2402, 'iuuu': 1644, 'mụ': 2537, 'xin': 4269, 'địa_chỉ': 4811, 'nch': 2557, 'cũg': 829, 'thằng kia': 3629, 'kia nch': 1733, 'nch cũg': 2559, 'cũg kiểu': 830, 'kiểu xaolol': 1764, 'xaolol ghê': 4260, 'đứa': 4864, 'ơi đứa': 4900, 'đứa chửi': 4866, 'vãi được': 4157, 'lay': 1845, 'tieng': 3679, 'dem': 998, 'an': 17, 'du ma': 1050, 'ma dan': 2166, 'dan lay': 969, 'lay trai': 1847, 'trai lon': 3745, 'lon tieng': 1907, 'tieng nua': 3680, 'nua loai': 2915, 'loai dem': 1891, 'dem ca': 999, 'ca an': 293, 'an me': 20, 'me roi': 2199, 'peng': 3102, 'suss': 3362, 'ngửi': 2713, 'mùi': 2349, 'peng suss': 3103, 'suss ngửi': 3363, 'ngửi mùi': 2714, 'suc': 3355, 'vat': 4067, 'suc vat': 3356, 'vat bo': 4068, 'bo đi': 97, 'đi oi': 4524, 'hoài': 1455, 'zậy': 4387, 'lừa_đảo': 2164, 'hệ_thống': 1597, 'lái': 2006, 'đồng': 4843, 'cực_khổ': 952, 'sướng': 3384, 'biết cực_khổ': 76, 'chặn cmt': 500, 'nghĩ': 2602, 'nâng': 2952, 'ơi nghĩ': 4895, 'nghĩ nên': 2603, 'nên đi': 2973, 'đi nâng': 4521, 'nâng mũi': 2953, 'mũi đi': 2387, 'tặng': 3990, 'nhớ': 2860, 'bom hàng': 100, 'nhỡ': 2865, 'bằng': 226, 'dợ': 1172, 'một_chút': 2523, 'cái mặt': 740, 'mặt ko': 2444, 'im': 1636, 'uyên': 4053, 'im mẹ': 1637, 'mẹ mồm': 2476, 'đi uyên': 4533, 'quang_thắng': 3183, 'mũi quang_thắng': 2374, 'nhạt_nhẽo': 2837, 'dkm': 1030, 'dkm phò': 1032, 'phò đúng': 3130, 'đúng gái': 4687, 'già_mồm có': 1260, 'cút': 821, 'đông': 4680, 'khai': 1657, 'đuoc': 4587, 'cơ': 841, 'văn_minh': 4185, 'kệ mẹ': 1821, 'xinh mũi': 4281, 'mũi tâm': 2384, 'tâm hơi': 3900, 'hơi to': 1553, 'tối': 4004, 'chim': 365, 'tiếp': 3695, 'mọc': 2496, 'hàng_xóm': 1497, 'hãm': 1513, 'con mặt': 668, 'mặt hãm': 2443, 'hãm lol': 1514, 'đức': 4868, 'trần đức': 3836, 'chửi mặt': 594, 'thuê nạo': 3532, 'xưởng': 4327, 'giới_thiệu': 1321, 'nhé': 2797, 'hiệu_quả': 1439, 'súc_vật': 3377, 'truyền_thông': 3781, 'truyền_thông bẩn': 3782, 'bình_tĩnh': 167, 'bat': 52, 'con vk': 673, 'ngon': 2612, 'ngủ ngon': 2704, 'tan': 3453, 'ùa': 4421, 'cek': 340, 'ăk': 4430, 'ùa đếy': 4422, 'đếy giọng': 4793, 'giọng còn': 1303, 'còn giọng': 774, 'giọng con': 1301, 'con cek': 660, 'cek ăk': 341, 'rủ': 3296, 'dui': 1057, 'có_lý_do': 795, 'nhầm': 2843, 'diễn': 1024, 'chê': 421, 'thật_sự': 3620, 'mũi xấu': 2386, 'fuho': 1209, 'lộc fuho': 2140, 'hello': 1415, 'ngứa': 2708, 'háng': 1504, 'ngứa háng': 2709, 'sh': 3319, 'iphone': 1641, 'vác': 4140, 'cám': 752, 'luôncười': 1944, 'mày mua': 2299, 'mua sh': 2250, 'sh mày': 3320, 'mua iphone': 2249, 'iphone xong': 1642, 'xong mày': 4291, 'mày đi': 2304, 'đi vác': 4534, 'vác cám': 4141, 'cám mẹ': 753, 'mày luôncười': 2298, 'luôncười ỉa': 1945, 'bàn': 125, 'tre': 3762, 'nt': 2911, 'xưng': 4326, 'cúp': 819, 'cúp mẹ': 820, 'mẹ đi': 2484, 'đi mệt': 4513, 'mệt loz': 2491, 'cao': 320, 'mũi cao': 2360, 'vãi lz': 4153, 'trệch': 3845, 'mương': 2394, 'mũi cái': 2361, 'cái lồn': 736, 'lồn trệch': 2127, 'trệch mương': 3846, 'dị': 1159, 'mũi dị': 2365, 'hây': 1509, 'hong': 1451, 'nói hây': 2999, 'hây làm': 1510, 'làm hong': 1984, 'hong anh': 1452, 'anh có': 27, 'có được': 791, 'được đĩ': 4724, 'đĩ nầy': 4706, 'nầy hong': 3025, 'đề_nghị': 4795, 'cách_ly': 730, 'hẳn': 1589, 'có_học': 794, 'bit': 71, 'đường sống': 4720, 'sống nó': 3411, 'thay_vì': 3494, 'bái': 132, 'ít_nhất': 4406, 'tóm': 3934, 'phường': 3143, 'tóm đc': 3935, 'gương': 1363, 'ứng_xử': 4945, 'noi gương': 2908, 'đà_nẵng': 4592, 'bêdde': 152, 'bêdde đi': 153, 'ckào': 623, 'đj': 4565, 'huhu': 1464, 'thù': 3582, 'vẩu': 4195, 'mik': 2206, 'trắng': 3839, 'quan': 3177, 'ib': 1630, 'ib nhé': 1632, 'free': 1207, 'vc': 4073, 'chán uyên': 413, 'uyên vc': 4056, 'nhy': 2767, 'tụi': 4027, 'vy': 4128, 'đặng': 4771, 'công': 807, 'vinh': 4085, 'tiền mua': 3699, 'chân_thành': 417, 'giàu': 1267, 'con này': 669, 'chốt đơn': 544, 'khép': 1692, 'hình_sự': 1526, 'dậy': 1131, 'xinh mn': 4280, 'bé trứng': 149, 'bu': 105, 'gan': 1211, 'hoài thương': 1456, 'giong': 1253, 'hoi': 1448, 'gio': 1252, 'cho no': 376, 'ma no': 2169, 'bay gio': 56, 'gi noi': 1233, 'tật': 3977, 'éo': 4402, 'sinh tật': 3335, 'tật đó': 3978, 'gọi em': 1379, 'set': 3318, 'khong': 1674, 'cười ỉa': 861, 'đỉ': 4801, 'lươn_lẹo': 2068, 'cất': 881, 'cất hàm_răng': 882, 'hàm_răng lon': 1490, 'lon đi': 1909, 'nc vs': 2555, 'trai dẹo': 3744, 'củ': 930, 'đấm': 4735, 'rp': 3244, 'rp chúng_nó': 3245, 'chúng_nó mẹ': 455, 'mẹ trang': 2482, 'trang bẩn': 3756, 'tuyệt': 3866, 'tầm': 3973, 'sđt': 3381, 'che sđt': 357, 'người_yêu': 2681, 'tình_huống': 3923, 'khó_khăn': 1695, 'đê': 4662, 'biet': 66, 'la co': 1829, 'mượn': 2395, 'phát': 3118, 'hàm_răng đi': 1493, 'ăn_cắp': 4435, 'phù_thủy_nữa': 3134, 'đừng ăn_cắp': 4885, 'ăn_cắp mũi': 4436, 'mũi bà': 2356, 'bà phù_thủy_nữa': 121, 'tục': 4026, 'hiểu': 1436, 'khóa': 1696, 'tài_khoản': 3875, 'dầu': 1128, 'thấm': 3600, 'đòi': 4669, 'binh': 70, 'thả cặc': 3594, 'cặc đc': 903, 'đc chứ': 4462, 'chứ tim': 583, 'đb': 4458, 'như đb': 2821, 'mặt mặt': 2450, 'mặt lồn': 2447, 'ngứa đích': 2711, 'đích qá': 4667, 'qá chj': 3228, 'gì xảy': 1357, 'sự': 3437, 'dồi': 1166, 'ngồi': 2696, 'thì đừng': 3568, 'dap': 986, 'chet': 358, 'luat': 1933, 'chet me': 359, 'phân_biệt': 3121, 'miền': 2216, 'bắc': 212, 'chơi': 462, 'phân_biệt miền': 3122, 'tiếng': 3694, 'nam đi': 2544, 'giống': 1316, 'giống trâu': 1318, 'le': 1848, 'nước': 3016, 'ốc': 4929, 'zây': 4383, 'đập chết': 4761, 'chết mẹ': 515, 'đi gi': 4499, 'gi zây': 1235, 'zây trời': 4384, 'tắt live': 3985, 'niềng': 2886, 'niềng đi': 2888, 'thây': 3552, 'ùi': 4423, 'sợ tâm': 3421, 'vẩu_thế': 4197, 'lý_do': 2056, 'phân': 3120, 'khùng': 1711, 'tắt con_mẹ': 3984, 'con_mẹ luôn': 684, 'con_gái': 682, 'giọng con_gái': 1302, 'lừa': 2163, 'ke': 1649, 'doan': 1039, 'kho': 1666, 'que': 3187, 'nguoi ta': 2640, 'móa': 2341, 'hảm': 1579, 'cachúc': 301, 'đại_ca': 4727, 'móa hảm': 2342, 'hảm bỏ_mẹ': 1580, 'bỏ_mẹ là': 256, 'là tốt': 1972, 'tốt đại': 4010, 'đại cachúc': 4726, 'cachúc đại_ca': 302, 'đại_ca nhiều': 4728, 'nhiều may_mắn': 2744, 'may_mắn con': 2190, 'con phò': 670, 'phò này': 3128, 'ntn': 2912, 'zị': 4388, 'zị má': 4389, 'lê minh': 2024, 'người_đời': 2682, 'tàn_nhẫn': 3879, 'chắc': 488, 'thực_sự': 3674, 'dòng': 1092, 'trách_nhiệm': 3785, 'ảo': 4922, 'có_thể giết': 798, 'hic': 1423, 'hic hic': 1424, 'ví': 4162, 'một_số': 2527, 'shiper': 3324, 'tiền_mặt': 3703, 'nứng lồn': 3057, 'tiệp': 3709, 'chỗ': 562, 'nhà_nước mày': 2775, 'giọng như': 1308, 'lol em': 1896, 'em mong': 1185, 'mong đừng': 2237, 'đừng nhái': 4881, 'giọng bắc': 1300, 'li': 1856, 'hung': 1465, 'phục': 3163, 'cua': 702, 'này mặt': 2944, 'ha': 1400, 'ghê ha': 1223, 'ko nhục': 1786, 'đi chết': 4493, 'lồnnnn': 2131, 'gớm': 1392, 'lun': 1935, 'khung': 1680, 'lè lưỡi': 2015, 'họ_hàng': 1599, 'ăn bánh': 4432, 'điện_thoại làm': 4562, 'hó': 1534, 'xài': 4300, 'ko xài': 1795, 'giả_tạo': 1274, 'giá': 1268, 'thẻ': 3639, 'diss': 1016, 'mõm': 2346, 'diss mõm': 1017, 'mõm đi': 2347, 'đôi_khi': 4679, 'quảng_cáo': 3214, 'ngắn': 2689, 'tổ': 4012, 'tỏ_vẻ': 4001, 'thiên_hạ': 3512, 'cái đầu': 747, 'chém': 419, 'chém chết': 420, 'idol': 1633, 'qué': 3205, 'xinh qué': 4282, 'mầy tâm': 2419, 'quang': 3181, 'dẹo vcl': 1143, 'vcl nguyễn': 4076, 'nguyễn quang': 2652, 'quang việt': 3182, 'ncc': 2556, 'êm_đẹp': 4403, 'đàn_bà thì': 4606, 'thì còn': 3561, 'còn để': 785, 'để cứ': 4798, 'đi một_cách': 4514, 'một_cách êm_đẹp': 2526, 'pr': 3168, 'thể_hiện': 3655, 'trình_độ': 3801, 'văn_hoá': 4183, 'xin_lỗi xong': 4277, 'ong': 3081, 'nghẹn_ngào': 2605, 'nghẹn_ngào đc': 2606, 'đc nói_chuyện': 4466, 'nói_chuyện tâm': 3008, 'tỉnh': 3997, 'bình tỉnh': 162, 'né': 2967, 'khu_vực': 1679, 'concak': 691, 'tên': 3918, 'lúc_nào': 2051, 'méo': 2331, 'lời': 2150, 'mồm lúc_nào': 2512, 'ne': 2564, 'nổi': 3043, 'côn_đồ': 806, 'ưa nổi': 4911, 'thang ck': 3486, 'khoá': 1676, 'thảo': 3597, 'vui ghê': 4124, 'thảo mai': 3598, 'lô cặc': 2040, 'ngoài': 2613, 'ngoài đường': 2616, 'ban': 43, 'dan ong': 972, 'mà xấu': 2283, 'vl dị': 4103, 'khắc': 1715, 'tự_ái': 4047, 'chị ngu': 531, 'ngu lại': 2635, 'lại tự_ái': 2083, 'sửa': 3432, 'êy': 4404, 'đập mũi': 4763, 'mũi sửa': 2377, 'sửa đê': 3435, 'đê êy': 4663, 'luôn đi': 1942, 'đi ad': 4488, 'lăn': 2058, 'qủa': 3229, 'tân': 3915, 'nghinh': 2592, 'ba': 38, 'bỏ lăn': 251, 'lăn lon': 2059, 'đi bây': 4491, 'bây qủa': 143, 'qủa tân': 3230, 'tân mà': 3916, 'mà nghinh': 2278, 'nghinh mặt': 2593, 'mặt mê': 2449, 'mê trai': 2337, 'trai ba': 3742, 'ba nữa': 39, 'nữa kìa': 3067, 'kìa đồ': 1814, 'đồ con': 4836, 'con quỷ': 671, 'show': 3329, 'khánh': 1687, 'thuý': 3537, 'kim_ngân': 1740, 'nguyễn khánh': 2647, 'khánh thuý': 1689, 'thuý nhung': 3538, 'nhung hồng': 2765, 'hồng kim_ngân': 1619, 'kim_ngân phương': 1742, 'phương mai': 3140, 'mai xấu': 2175, 'yếu': 4373, 'yếu lắm': 4374, 'hết xưng': 1593, 'phát_ngôn': 3119, 'fame': 1197, 'bú fame': 177, 'fame nha': 1198, 'khuya': 1681, 'khuya cl': 1682, 'cl gi': 626, 'gi gio': 1230, 'tâm_lý': 3913, 'đền': 4796, 'muon': 2256, 'nghi': 2591, 'troi': 3774, 'cau': 323, 'lam gi': 1840, 'nócho': 2993, 'vênh_vênh': 4158, 'mặtxem': 2467, 'taycái': 3473, 'bạt': 185, 'chó đm': 440, 'đm nócho': 4573, 'nócho thằng': 2994, 'thằng đụ': 3636, 'đụ còn': 4860, 'còn vênh_vênh': 780, 'vênh_vênh mặtxem': 4159, 'mặtxem ngứa': 2468, 'ngứa taycái': 2710, 'taycái mặt': 3474, 'mặt chó': 2441, 'chó mà': 437, 'mà đập': 2287, 'đập mấy': 4764, 'mấy bạt': 2407, 'bạt chắc': 186, 'tư_duy': 3950, 'người đi': 2674, 'vải': 4192, 'nồn': 3040, 'học ngu': 1602, 'ngu kiếm': 2634, 'kiếm tiền': 1749, 'tiền hãm': 3698, 'hãm vải': 1515, 'vải nồn': 4193, 'đẹp gái': 4778, 'gái chị': 1338, 'màn_hình': 2290, 'cần_mỡ': 887, 'rán cần_mỡ': 3258, 'ghê_z': 1227, 'đàn_bà vậy': 4609, 'vậy đi': 4203, 'trẻ trâu': 3843, 'hé': 1521, 'hé lô': 1522, 'lô mỏ': 2042, 'giật': 1290, 'giật giật': 1291, 'là chị': 1958, 'chị không': 530, 'trình_bày': 3800, 'nh': 2716, 'là xong': 1974, 'đg': 4484, 'đức bo': 4869, 'đa': 4446, 'nhân_cách': 2788, 'hả má': 1574, 'bận': 207, 'thanh_lý': 3487, 'đất_nước': 4738, 'giải': 1277, 'yhichs': 4357, 'nhừ_tử': 2874, 'đửi': 4887, 'thứ đàn_bà': 3670, 'đàn_bà vậy_mà': 4610, 'vậy_mà đứng': 4205, 'đứng giải': 4872, 'giải yhichs': 1278, 'yhichs chi': 4358, 'chi đánh': 362, 'nó nhừ_tử': 2988, 'nhừ_tử đửi': 2875, 'đửi khỏi': 4888, 'chảy': 479, 'rớt': 3294, 'điệu chảy': 4564, 'chảy rớt': 480, 'rớt lol': 3295, 'chời': 567, 'ngủ cl': 2703, 'cl này': 627, 'này chời': 2938, 'quanh': 3184, 'jk': 1646, 'lm': 1880, 'nứnq': 3059, 'thu quanh': 3525, 'quanh chet': 3185, 'me lun': 2194, 'lun jk': 1936, 'jk nc': 1647, 'nc dang': 2553, 'dang hoang': 978, 'hoang lm': 1444, 'lm đàn_bà': 1881, 'đàn_bà nứnq': 4605, 'nứnq lồn': 3060, 'ml': 2221, 'nghìn': 2600, 'ml nghìn': 2222, 'nghìn ma': 2601, 'ma nghìn': 2168, 'chết con_mẹ': 506, 'cát': 756, 'xê': 4315, 'bao_nhiêu': 51, 'cát xê': 757, 'đánh kẻ': 4633, 'kẻ chạy': 1817, 'chạy đi': 472, 'đi ko': 4502, 'ko đánh': 1797, 'đánh chạy': 4631, 'trận': 3838, 'loạn': 1931, 'phô_mai': 3132, 'hột': 1623, 'xí': 4317, 'muội': 2262, 'cute phô_mai': 713, 'phô_mai que': 3133, 'que hột': 3188, 'hột me': 1624, 'me xí': 2200, 'xí muội': 4318, 'ăn_nói': 4438, 'già': 1254, 'già chết': 1255, 'chết ko': 510, 'bóc': 173, 'hà_nội': 1481, 'nổi_tiếng': 3045, 'như nổi_tiếng': 2818, 'nổi_tiếng lắm': 3046, 'sinh_nhật': 3336, 'lỡ': 2153, 'zai': 4375, 'ms': 2244, 'bt': 103, 'xaolon': 4261, 'lỡ zai': 2154, 'zai đếy': 4377, 'đếy coi': 4792, 'coi thì': 654, 'thì ms': 3562, 'ms bt': 2245, 'bt đc': 104, 'đc xaolon': 4468, 'kkkkkk': 1768, 'có_dễ': 792, 'tù_tội': 3943, 'ghê_thiệt': 1224, 'chết hả': 508, 'hả kkkkkk': 1573, 'kkkkkk có_dễ': 1769, 'có_dễ chết': 793, 'chết lôi': 513, 'lôi ngta': 2044, 'ngta tù_tội': 2628, 'tù_tội ghê_thiệt': 3944, 'nho': 2754, 'cứng nho': 942, 'nx': 2926, 'bình_luận': 163, 'cố_tình': 911, 'ảo_tưởng': 4923, 'tự': 4040, 'nghĩa': 2604, 'đến': 4788, 'sung_sướng': 3358, 'đau': 4457, 'đói': 4675, 'cái_trò': 749, 'khốn_nạn': 1721, 'lô cc': 2039, 'tài_xế': 3878, 'làm_công': 1996, 'cúng': 817, 'tội mấy': 4019, 'cúng cô_hồn': 818, 'mẫu': 2420, 'abe': 0, 'sợ chị': 3415, 'bao_giờ': 50, 'phím': 3125, 'mấy page': 2409, 'toàn bọn': 3735, 'nghỉ': 2608, 'tháng': 3549, 'tiktok': 3684, 'ớn': 4937, 'ơiiiii': 4904, 'ớn qué': 4938, 'qué đỉ': 3206, 'đỉ ơiiiii': 4806, 'ơiiiii bớt': 4905, 'bớt bớt': 279, 'bớt ảo': 286, 'to chị': 3714, 'khó_chịu': 1694, 'cái mũi': 739, 'mũi khó_chịu': 2368, 'đừng nói': 4882, 'nghiệp': 2594, 'quật': 3217, 'thằng chủ': 3627, 'nghiệp quật': 2597, 'vỡ mặt': 4228, 'yêu_thương': 4370, 'lonn': 1912, 'cáii': 750, 'kiaaa': 1737, 'yêu_thương lonn': 4371, 'lonn được': 1913, 'được cáii': 4722, 'cáii mũi': 751, 'mũi kiaaa': 2369, 'mừng': 2539, 'giọng trai': 1309, 'quần': 3215, 'dơ_bẩn': 1108, 'vy đừng': 4129, 'đừng share': 4883, 'share quần': 3322, 'quần về': 3216, 'về page': 4213, 'page nó': 3091, 'nó dơ_bẩn': 2982, 'dơ_bẩn lắm': 1109, 'diễn sâu': 1027, 'ơi răng': 4896, 'răng to_thế': 3278, 'xinh_đẹp': 4284, 'chào': 408, 'giận': 1289, 'chào đi': 411, 'đi huhu': 4500, 'con điên': 676, 'va': 4060, 'con cặc': 662, 'ngậm': 2685, 'kéo': 1805, 'anh_em': 29, 'che làm': 354, 'làm đéo': 1991, 'chết đỉ': 520, 'đỉ mẹ': 4804, 'mẹ nó': 2479, 'mâm': 2324, 'mặt mâm': 2448, 'lòng': 2036, 'nai': 2541, 'vv': 4127, 'gọi tâm': 1386, 'deso': 1002, 'mắc cười': 2422, 'cười vl': 859, 'ciu': 601, 'show ciu': 3330, 'ciu đi': 602, 'nhân_tình': 2792, 'thuốc': 3541, 'nhân_tình bình_tĩnh': 2793, 'bình_tĩnh vãi': 169, 'vãi cc': 4150, 'cc mấy': 334, 'mấy xin': 2416, 'xin thuốc': 4271, 'thuốc mới': 3542, 'mới vl': 2531, 'như dồi': 2812, 'dồi lợn': 1167, 'lợn bày_đặt': 2161, 'bày_đặt live': 130, 'stream cc': 3348, 'miếng': 2211, 'lịch_sử': 2113, 'mất': 2400, 'bik': 69, 'đéo bik': 4652, 'kẹo': 1815, 'dương': 1119, 'tuấn': 3869, 'cộng_đồng': 919, 'ngủ đi': 2707, 'đi ae': 4489, 'cộng_đồng mạng': 921, 'cán_bộ': 754, 'lãnh_đạo': 2011, 'liu': 1862, 'cức': 940, 'liu liu': 1863, 'xàm cức': 4302, 'bye': 119, 'chồng đáng': 559, 'đáng nể': 4628, 'đẩu': 4758, 'đủ': 4863, 'đúng người': 4688, 'thế_thì': 3651, 'tẹt': 3991, 'mũi tẹt': 2385, 'ngậm cặc': 2686, 'cặc sướng': 901, 'sướng chết': 3385, 'chết ói': 517, 'tỏ': 3999, 'dùng': 1101, 'sim': 3332, 'thôi mày': 3576, 'mày im': 2296, 'mồm đê': 2517, 'bậy': 209, 'còn cải': 773, 'bh': 64, 'tưởng bảo': 3954, 'tên tôn': 3919, 'lầm nha': 2096, 'cốc': 912, 'cốc_cốc': 914, 'cốc cốc_cốc': 913, 'gắt': 1373, 'đái': 4622, 'rất': 3283, 'đòn': 4671, 'chồng bình': 546, 'no đòn': 2901, 'vương': 4191, 'nguyên vương': 2645, 'sấu': 3394, 'nguyễn ngọc': 2651, 'ngọc diễm': 2691, 'huy': 1466, 'xíu': 4319, 'rate': 3238, 'nao': 2547, 'chac': 344, 'duoc': 1067, 'het': 1421, 'hieu': 1426, 'mot': 2238, 'chui': 393, 'nat': 2549, 'be': 59, 'de': 995, 'chac an': 345, 'kg duoc': 1653, 'la mot': 1832, 'tan nat': 3454, 'nhạt vl': 2836, 'nấm': 3022, 'phết': 3156, 'mặt_dày': 2462, 'mặt_đường': 2465, 'mặt_dày mặt_đường': 2463, 'mặt_đường buồn': 2466, 'buồn cl': 116, 'cl tao': 628, 'tao nè': 3465, 'tủi': 4029, 'bn': 86, 'kia cute': 1727, 'cute chị': 712, 'hội': 1622, 'người_nhà': 2675, 'bênh_vực': 158, 'nyc': 2928, 'hân': 1508, 'gương_mặt': 1364, 'xuất_sắc': 4299, 'to hô': 3716, 'hô mặt': 1538, 'mâm gương_mặt': 2325, 'gương_mặt xuất_sắc': 1365, 'dám': 1077, 'xạo lồn': 4333, 'lồn ai': 2120, 'ai dám': 11, 'sạo': 3388, 'sạo lồn': 3389, 'len': 1849, 'rùi': 3270, 'ứa': 4941, 'còn cãi': 772, 'ăn_theo': 4440, 'đũy': 4712, 'ăn_theo nghiệp': 4442, 'nghiệp lắm': 2596, 'lắm đũy': 2106, 'nguyen': 2642, 'thinh': 3509, 'duc': 1051, 'siêu': 3337, 'làm_ơn': 2002, 'vô_tội_vạ': 4174, 'cảm_giác': 872, 'lùng': 2048, 'lằng': 2107, 'nhảy': 2839, 'kiểm_soát': 1755, 'làm_ơn đừng': 2003, 'đừng lè': 4879, 'lưỡi một_cách': 2075, 'một_cách vô_tội_vạ': 2525, 'vô_tội_vạ cảm_giác': 4175, 'cảm_giác mồm': 873, 'lúc_nào lùng': 2052, 'lùng lằng': 2049, 'lằng lưỡi': 2108, 'lưỡi lưỡi': 2074, 'lưỡi nhảy': 2076, 'nhảy nhạc': 2840, 'nhạc hay': 2830, 'hay mà': 1409, 'mà kiểm_soát': 2274, 'loạn rồi': 1932, 'chuyen': 396, 'helo': 1416, 'helo cj': 1417, 'chị tâm': 534, 'rửa': 3297, 'bác': 131, 'bệnh_tật': 233, 'ngu chết': 2632, 'chết bệnh_tật': 505, 'bệnh_tật lồn': 234, 'định': 4813, 'livestream': 1870, 'nha_chị': 2721, 'mũi hơi': 2367, 'hơi bự': 1551, 'bự nha_chị': 290, 'nổ': 3041, 'cỏ': 909, 'lòi': 2034, 'nổ địa_chỉ': 3042, 'gia': 1236, 'bàn_tay': 127, 'chắng': 492, 'dái': 1075, 'thuôi': 3536, 'cave gia': 327, 'gia nhà': 1239, 'nhà bàn_tay': 2769, 'bàn_tay chắng': 128, 'chắng có': 493, 'có dái': 788, 'dái nó': 1076, 'nó mới': 2986, 'mới nuôi': 2530, 'nuôi thuôi': 2925, 'ngựa': 2715, 'biến': 73, 'biến ik': 74, 'hang': 1406, 'hóng': 1535, 'nick': 2882, 'fake': 1196, 'beat': 60, 'dịu': 1163, 'lỡ_lầm': 2155, 'thu dịu': 3524, 'dịu đấy': 1164, 'đấy bảo': 4740, 'bảo page': 195, 'page ác': 3099, 'vl ko': 4105, 'ko lỡ_lầm': 1783, 'lỡ_lầm đâu': 2156, 'tha_thứ': 3479, 'hãy': 1518, 'nhau': 2728, 'gượng': 1366, 'nhỏ': 2857, 'luôndâm': 1946, 'dục': 1173, 'đánh nhỏ': 4636, 'nhỏ cho': 2858, 'cho bỏ_mẹ': 372, 'bỏ_mẹ luôndâm': 255, 'luôndâm dục': 1947, 'ghê_vc': 1225, 'đụ_mẹ': 4862, 'cmnr': 644, 'điên cmnr': 4557, 'kỹ': 1826, 'vợ là': 4234, 'chuẩn': 400, 'này ko': 2942, 'táng': 3884, 'đia': 4548, 'nàu': 2933, 'táng chết': 3885, 'mẹ đia': 2485, 'đia ko': 4549, 'ko nói': 1789, 'nói loại': 3000, 'loại nàu': 1926, 'phu': 3114, 'nu': 2913, 'phu nu': 3115, 'nát': 2950, 'ck bắt': 611, 'tại_sao': 3960, 'ơiiiiiii': 4906, 'đỉ lồn': 4803, 'lồn tại_sao': 2128, 'tại_sao mày': 3961, 'mày chặn': 2294, 'chặn bình_luận': 499, 'bình_luận dị': 164, 'dị con': 1160, 'con đỉ': 679, 'đỉ ơiiiiiii': 4807, 'dcm dẹo': 994, 'dẹo ghê': 1139, 'xuyên_tạc': 4295, 'cno': 646, 'phạt': 3148, 'page thấy': 3095, 'thấy mùi': 3610, 'mùi xàm': 2350, 'xàm xuyên_tạc': 4304, 'xuyên_tạc mấy': 4296, 'mấy đầu': 2417, 'đầu chưa': 4750, 'chưa còn': 465, 'còn ăn_cắp': 782, 'ăn_cắp page': 4437, 'page về': 3098, 'về đăng': 4216, 'đăng mong': 4691, 'mong cno': 2235, 'cno phạt': 647, 'phạt và': 3149, 'và bay': 4131, 'bay cmn': 55, 'cmn page': 642, 'page đi': 3100, 'ko trả_lời': 1793, 'nguyên bánh': 2644, 'dai': 961, 'lâu': 2008, 'dai vãi': 962, 'vãi lâu': 4154, 'google': 1330, 'play': 3165, 'câu_chuyện': 764, 'tri': 3768, 'ân': 4401, 'khách_hàng': 1686, 'lớn_tuổi': 2148, 'tsu': 3857, 'mép': 2333, 'thế_là': 3647, 'tưởng lớn_tuổi': 3957, 'thông_cảm': 3578, 'vội': 4221, 'kịp': 1824, 'hậu_quả': 1588, 'đi nó': 4523, 'kim': 1739, 'tởm': 4023, 'tai': 3448, 'hoá': 1460, 'sừng': 3427, 'tải cl': 3971, 'cl về': 629, 'về sừng': 4215, 'lồn to': 2126, 'chảnh': 478, 'nảy': 3021, 'treo': 3767, 'bi': 65, 'mặt to': 2454, 'cái lỗ': 737, 'mtp': 2246, 'chua': 391, 'me may': 2195, 'cười_vậy': 862, 'này đi': 2948, 'vui lắm': 4125, 'bo rồi': 93, 'bổ': 273, 'đối_diện': 4830, 'hàm_răng muốn': 1491, 'muốn bổ': 2259, 'bổ mặt': 274, 'mặt đối_diện': 2460, 'đối_diện mũi': 4831, 'to vl': 3721, 'bệnh': 232, 'go': 1329, 'ứng': 4944, 'nó phát': 2990, 'ơi add': 4892, 'lắm mong': 2103, 'mong đc': 2236, 'thế_mà': 3648, 'rì': 3262, 'đến_nỗi': 4790, 'dở': 1170, 'toi': 3729, 'luc': 1934, 'tam_than': 3452, 'gi ma': 1231, 'voi trai': 4119, 'thèm gọi': 3555, 'cờ': 926, 'hôm': 1542, 'quánh': 3202, 'coi_chừng': 657, 'cưới': 851, 'tẩy': 3974, 'kute': 1799, 'he': 1414, 'choi les': 383, 'bất_cái': 199, 'bất_cái lz': 200, 'xem_lại': 4266, 'mắc mệt': 2423, 'nhiu': 2738, 'loai đan': 1892, 'ý_định': 4428, 'có ý_định': 790, 'ý_định niềng': 4429, 'niềng ko': 2887, 'chú': 445, 'chú đánh': 446, 'đánh đi': 4638, 'tính_năng': 3928, 'xạol': 4335, 'bớt xạol': 285, 'đc tâm': 4467, 'tâm em': 3897, 'mà đc': 2284, 'lông_mày': 2047, 'mọc sừng': 2497, 'cộng': 917, 'bản_chất': 188, 'sức_mạnh': 3426, 'võ': 4176, 'bay_lượn': 58, 'y_như': 4355, 'phim': 3112, 'chưởng': 468, 'đổi': 4845, 'cào': 723, 'khốn': 1719, 'nan': 2545, 'gia chết': 1237, 'chết me': 514, 'đi loại': 4504, 'đàn_bà khốn': 4599, 'khốn nan': 1720, 'nan ngồi': 2546, 'ngồi mà': 2697, 'mà lai': 2275, 'chữ khốn_nạn': 599, 'thân': 3550, 'sub': 3354, 'nhỉ': 2854, 'chào tâm': 410, 'em dẹo': 1183, 'nhắn_tin': 2849, 'gạ': 1367, 'chịch': 540, 'nhắn_tin gạ': 2850, 'gạ chịch': 1368, 'nắm_đấm': 3027, 'chị_gái': 539, 'đi chị_gái': 4495, 'vổ': 4219, 'lé': 2017, 'tròn': 3807, 'vổ mũi': 4220, 'tẹt mắt': 3993, 'mắt lé': 2428, 'lé mặt': 2018, 'mặt tròn': 2455, 'tròn chả': 3808, 'chả ngoài': 475, 'ngoài dẹo': 2614, 'dẹo vì': 1144, 'vì cái': 4161, 'cái gì': 733, 'mặn': 2436, 'công_khai': 811, 'khoả_lấp': 1677, 'ngờ': 2699, 'quỷ vợ': 3225, 'cải cải': 870, 'cải khoả_lấp': 871, 'khoả_lấp bớt': 1678, 'bớt nhục': 283, 'nhục ngờ': 2870, 'ngờ nhục': 2700, 'cac': 299, 'lô cac': 2038, 'hương': 1562, 'đại_học': 4729, 'rầm_rộ': 3284, 'ahihi': 9, 'ăn_vụng bánh': 4444, 'tâm gọi': 3898, 'gọi nào': 1382, 'nào bú': 2931, 'cu đi': 701, 'chấp_nhận_lời': 485, 'mấy rồi': 2410, 'ngan': 2577, 'vang': 4064, 'tốn tiền': 4008, 'oanh': 3073, 'gê': 1346, 'hoàngg': 1459, 'vụ': 4242, 'mãi anti': 2329, 'khoa': 1667, 'chị chào': 526, 'cao_thượng': 321, 'hỏi': 1607, 'chồng_con': 560, 'nhà_nghỉ': 2772, 'ngắm': 2687, 'cảnh': 878, 'chân': 415, 'địt_mẹ chồng': 4819, 'chồng cao_thượng': 547, 'cao_thượng mà': 322, 'mà đĩ': 2286, 'đĩ còn': 4698, 'cãi hỏi': 767, 'hỏi chồng_con': 1608, 'chồng_con đi': 561, 'đi nhà_nghỉ': 4517, 'nhà_nghỉ trai': 2773, 'trai lạ': 3747, 'lạ gì': 2080, 'gì ngắm': 1353, 'ngắm cảnh': 2688, 'cảnh gặp': 879, 'gặp tao': 1376, 'tao không': 3461, 'không tay': 1705, 'tay cũng': 3471, 'cũng chân': 832, 'chân hai': 416, 'hai đứa': 1403, 'trường_hợp': 3825, 'chúng_ta': 456, 'cuoi': 709, 'ia': 1629, 'tao cuoi': 3458, 'cuoi ia': 710, 'nói_dối': 3010, 'rồi còn': 3291, 'còn nói_dối': 777, 'nói_dối trong': 3011, 'trong kêu': 3777, 'kêu đường': 1810, 'đường như': 4719, 'như kia': 2813, 'kia ko': 1732, 'ko livestream': 1778, 'livestream ko': 1871, 'chị nhà': 532, 'nhà liu': 2771, 'liu rồi': 1864, 'còn xạo': 781, 'xạo chó': 4329, 'ôi vcl': 4415, 'giọng yêu': 1312, 'yêu cc': 4362, 'huyền': 1467, 'tùng': 3945, 'nghèo': 2599, 'liếm': 1877, 'thể': 3653, 'thể tha_thứ': 3654, 'đi đi': 4539, 'cư_dân': 846, 'cư_dân mạng': 847, 'hâm_mộ': 1506, 'fl có': 1206, 'có drama': 787, 'drama không': 1045, 'không chứ': 1702, 'chứ hâm_mộ': 582, 'hâm_mộ mẹ': 1507, 'bản_thân': 190, 'di': 1003, 'chong': 384, 'hien': 1425, 'gap': 1212, 'phai': 3106, 'thuong': 3529, 'hk': 1440, 'đám': 4624, 'cặn_bã': 904, 'chút': 458, 'là vui': 1973, 'làm_quen': 1997, 'phút chết': 3138, 'con_mẹ mày': 685, 'mày vs': 2302, 'vs tao': 4121, 'mng': 2226, 'được fan': 4723, 'hỏng': 1609, 'gu': 1334, 'gu mặn': 1335, 'mặn vl': 2437, 'sml': 3338, 'bố mày': 266, 'đéo thèm': 4658, 'khúc': 1712, 'nhà_quê': 2777, 'tham_vọng': 3482, 'đm nhà_quê': 4572, 'nhà_quê tham_vọng': 2778, 'cưng': 849, 'lau': 1844, 'đỉnh': 4808, 'bớt cười': 280, 'đung': 4586, 'đan nhu': 4451, 'đi noi': 4520, 'biết_bao_nhiêu': 78, 'hại biết_bao_nhiêu': 1565, 'biết_bao_nhiêu con_người': 79, 'con_người dơ_bẩn': 687, 'nháy': 2786, 'thù_hằn': 3583, 'phúc': 3136, 'đưa': 4715, 'ổng': 4936, 'bỏ đi': 253, 'dạo': 1123, 'đinhất': 4552, 'đánh chết': 4632, 'chó ngoại_tình': 438, 'ngoại_tình đinhất': 2621, 'đinhất người': 4553, 'người vợ': 2673, 'chông': 443, 'vây': 4147, 'đanh': 4455, 'vai': 4061, 'bac': 40, 'dưa': 1116, 'thư đan': 3589, 'đan bo': 4450, 'bo chông': 88, 'chông bo': 444, 'bo như': 91, 'như vây': 2820, 'vây đanh': 4148, 'đanh vai': 4456, 'vai bac': 4062, 'bac no': 41, 'no dưa': 2894, 'pham': 3108, 'đi thằng': 4531, 'nhá': 2781, 'con mắt': 667, 'tú': 3948, 'nhở': 2864, 'đii': 4550, 'bé đi': 150, 'đi niềng': 4519, 'camera': 313, 'camera đi': 315, 'lệch': 2112, 'bedded': 62, 'bedded đi': 63, 'lương_tâm': 2070, 'tâm dễ_thương': 3896, 'lớn_tiếng': 2146, 'ảnh_hưởng': 4920, 'đang hư': 4453, 'hư lớn_tiếng': 1557, 'lớn_tiếng ảnh_hưởng': 2147, 'ảnh_hưởng phụ_nữ': 4921, 'minh hiếu': 2209, 'vn': 4111, 'tien': 3677, 'kinh_dị': 1745, 'đi sửa': 4527, 'sửa mũi': 3434, 'đi kinh_dị': 4501, 'kinh_dị vl': 1746, 'đẻ': 4785, 'triệu like': 3772, 'anh chồng': 24, 'love': 1914, 'tóc bết': 3930, 'rang': 3235, 'lịch_sự': 2114, 'mỏi': 2508, 'tối ngủ': 4005, 'rat': 3237, 'khoi': 1671, 'khoi nha': 1672, 'nha la': 2718, 'mà tao': 2280, 'lạnh': 2084, 'mặc': 2435, 'thanh_niên': 3489, 'chẳng_qua': 497, 'chương': 467, 'thằng chồng': 3626, 'chồng nc': 551, 'nc khoa': 2554, 'khoa chương': 1668, 'mắt to_thế': 2433, 'hô vc': 1540, 'cá_sấu': 725, 'đixạo': 4554, 'bớt diễn': 281, 'diễn đixạo': 1028, 'đixạo lồn': 4555, 'trương': 3821, 'thuỳ': 3543, 'đánh_giá': 4640, 'duma': 1061, 'hám': 1501, 'duma hám': 1062, 'hám zai': 1503, 'zai vcl': 4376, 'đm chán': 4570, 'gì chết': 1350, 'chết liền': 511, 'giảm': 1283, 'mode': 2229, 'mode giả_tạo': 2230, 'thớt': 3665, 'tội_lỗi': 4021, 'yến': 4372, 'nhi': 2732, 'chứng': 585, 'dô coi': 1095, 'xa': 4256, 'kê': 1806, 'sát': 3367, 'chút đi': 459, 'đi kê': 4503, 'sát mặt': 3369, 'màn_hình sợ': 2291, 'dug': 1055, 'hoc': 1447, 'su': 3352, 'dug la': 1056, 'lâm': 2007, 'con_cháu': 680, 'sống đéo': 3412, 'con_cháu sau_này': 681, 'hihi': 1427, 'đội': 4850, 'xách': 4307, 'mỡ xách': 2536, 'xách cl': 4309, 'cl chạy': 625, 'chạy hướng': 470, 'đầu buoi': 4748, 'buoi an': 108, 'an cứt': 18, 'quyên': 3191, 'hốt': 1612, 'mất_dạy': 2401, 'này xấu': 2947, 'chau': 351, 'góc': 1358, 'thỏ': 3663, 'chau ngan': 352, 'ngan ngoc': 2578, 'ngoc nguyễn': 2611, 'ngọc hồng': 2693, 'hồng diễm': 1617, 'diễm phạm': 1023, 'ngọc khánh': 2694, 'khánh góc': 1688, 'góc giống': 1359, 'giống thỏ': 1317, 'em_trai': 1190, 'tìm': 3920, 'đhs': 4485, 'thất_bại': 3602, 'tạo_hoá': 3967, 'xê lồn': 4316, 'lồn đhs': 2129, 'đhs dẹo': 4486, 'dẹo đc': 1145, 'đc đi': 4469, 'đi lại': 4507, 'lại mũi': 2082, 'đi thất_bại': 4529, 'thất_bại tạo_hoá': 3603, 'tạo_hoá vãi': 3968, 'vãi loz': 4152, 'dòng_họ': 1093, 'nở': 3051, 'ngoại': 2617, 'chúng_tôi': 457, 'đỗ': 4847, 'acc': 1, 'mà chửi': 2273, 'khon_nan': 1673, 'dan khon_nan': 968, 'nhu_nhược': 2760, 'nén': 2968, 'moi': 2231, 'tran': 3751, 'hiếp': 1430, 'cai thang': 309, 'thang chong': 3485, 'chong nhu_nhược': 387, 'nhu_nhược nén': 2761, 'nén vo': 2969, 'no moi': 2898, 'moi vay': 2232, 'vay bắt': 4071, 'bắt tai': 222, 'tai tran': 3449, 'tran ma': 3752, 'no ly': 2896, 'ly su': 1951, 'su nha': 3353, 'no an': 2891, 'an hiếp': 19, 'hiếp chong': 1431, 'chong du': 386, 'du lam': 1049, 'lam day': 1839, 'long': 1911, 'trọng': 3848, 'sokiu': 3341, 'nói giọng': 2997, 'giọng kiểu': 1306, 'kiểu tỏ': 1763, 'tỏ sokiu': 4000, 'sokiu đấy': 3342, 'đấy tởm': 4745, 'tởm zl': 4025, 'zl má': 4381, 'làm để': 1993, 'hoặc': 1462, 'chở': 568, 'quê': 3207, 'sẽ': 3403, 'liều': 1879, 'nghe mùi': 2586, 'tắt camera': 3982, 'camera nát': 314, 'nát lol': 2951, 'lol nha': 1899, 'tl': 3711, 'vài': 4133, 'bộp': 276, 'vk tl': 4100, 'tl thèm': 3712, 'thèm vài': 3557, 'vài bộp': 4134, 'bộp tai': 277, 'tai đỉ': 3450, 'thảo nguyễn': 3599, 'nguyễn mấy': 2650, 'mấy trang': 2414, 'trang beat': 3755, 'beat sợ': 61, 'sợ chó': 3414, 'chó bọn': 433, 'bọn rác': 247, 'rác nhau': 3250, 'tym': 3872, 'ông_già': 4420, 'tôm': 3938, 'vị_trí': 4217, 'liên_tục': 1876, 'di_lay': 1011, 'di_lay trai': 1012, 'hông': 1546, 'vết': 4209, 'tồn_tại': 4011, 'ngay': 2580, 'là ng': 1968, 'cười vcl': 858, 'già_mồm đến': 1265, 'đến này': 4789, 'này còn': 2939, 'còn nữa': 778, 'nữa không': 3066, 'không vứt': 1706, 'voi chong': 4117, 'ranh': 3236, 'cai thu': 310, 'thể_loại': 3656, 'phí': 3124, 'gà': 1336, 'trần dục': 3834, 'dục bo': 1174, 'chừa': 586, 'nghiệp ko': 2595, 'hii': 1428, 'chớt': 564, 'quốc': 3218, 'dui chớt': 1058, 'tìm_hiểu': 3921, 'khanh': 1658, 'sanh': 3305, 'sanh tật': 3306, 'nhờ': 2861, 'biên': 72, 'bai': 42, 'dư_luận': 1115, 'đag': 4447, 'đag ngoài': 4448, 'nhịn': 2855, 'cmay': 639, 'đéo nhịn': 4655, 'nhịn cười': 2856, 'niu': 2883, 'nạn': 3018, 'bất_hạnh': 201, 'nch kiểu': 2561, 'kiểu nghe': 1762, 'nghe mệt': 2587, 'mệt lol': 2490, 'lol thật_sự': 1900, 'gọi chửi': 1378, 'đỉsai': 4809, 'mồmsao': 2518, 'tát': 3888, 'đỉsai còn': 4810, 'còn mồmsao': 775, 'mồmsao ko': 2519, 'ko tát': 1794, 'tát nó': 3891, 'nước_mắt': 3017, 'hot_girl': 1454, 'nl': 2889, 'giả_vờ': 1276, 'vợ vậy': 4239, 'ah kg': 7, 'tâm tâm': 3905, 'bớt xạo': 284, 'việt_nam': 4095, 'clip': 632, 'đi xa': 4536, 'sợ huhu': 3417, 'gớm dẹo': 1394, 'dẹo lồn': 1141, 'da chết': 955, 'mẹ no': 2478, 'ko thèm': 1791, 'mặt bả': 2439, 'tội_nghiệp': 4022, 'ôm': 4417, 'mi': 2204, 'gói': 1360, 'quay': 3186, 'không nổi': 1704, 'sâu_xa': 3374, 'đccc': 4470, 'yêu chết': 4364, 'đi đccc': 4537, 'đc ko': 4465, 'sắc': 3396, 'cho nó': 377, 'đẹp_trai': 4784, 'nịnh vl': 3037, 'vl huhu': 4104, 'thể_loại đàn_bà': 3657, 'đàn_bà thế': 4607, 'tỏi': 4002, 'củ tỏi': 931, 'thất_vọng': 3604, 'giọn': 1297, 'là mẹ': 1966, 'mẹ thất_vọng': 2481, 'thất_vọng con': 3605, 'con lắm': 665, 'lắm giọn': 2101, 'giọn cc': 1298, 'vất_vả': 4194, 'giữ': 1327, 'chó_đẻ': 441, 'gọi là': 1381, 'là đc': 1975, 'thành_công': 3545, 'nhiều tiền': 2748, 'giang': 1244, 'cháy': 414, 'máy': 2322, 'tâm đi': 3909, 'kém': 1803, 'thg': 3505, 'uy_tín': 4052, 'bất_ngờ': 202, 'koiiiii': 1798, 'ơi đụ': 4899, 'má chào': 2308, 'chào koiiiii': 409, 'lạy': 2085, 'đỉ chó': 4802, 'chó coi': 434, 'coi tức': 655, 'tức dùm': 4031, 'dùm chồng': 1100, 'hôm_nay': 1544, 'mọi': 2499, 'thằng ad': 3623, 'tiến': 3693, 'mút': 2352, 'xin_lỗi là': 4275, 'mã': 2326, 'heloo mã': 1420, 'mã mẹ': 2327, 'lưng': 2067, 'kén': 1804, 'chính_thức': 428, 'thăng': 3587, 'ghê_á': 1228, 'dẹo mệt': 1142, 'mùi xạo': 2351, 'lồn anh': 2121, 'đuôi': 4588, 'ý_thức': 4427, 'gớt': 1395, 'gớt nước_mắt': 1396, 'hay_ho': 1412, 'vua': 4122, 'gian': 1243, 'bắt gian': 221, 'hot': 1453, 'cắt_cổ': 896, 'cánh': 755, 'giang quỳnh': 1245, 'quỳnh nhi': 3221, 'xử_lí': 4350, 'nhìnn': 2803, 'lzoz': 1955, 'zui': 4382, 'nhìnn tâm': 2804, 'trâu mỏ': 3795, 'mỏ méo': 2505, 'méo như': 2332, 'như lzoz': 2816, 'lzoz bo': 1956, 'bo zui': 96, 'chậm': 487, 'nhìm': 2800, 'cười thôi': 857, 'thôi ơi': 3577, 'ơi trông': 4897, 'trông xúc_phạm': 3811, 'xúc_phạm nhìm': 4325, 'nhìm vcl': 2801, 'vcl ấy': 4077, 'mát': 2317, 'nha_em': 2722, 'đẫy': 4759, 'địt đẫy': 4817, 'ý_kiến': 4425, 'ý_kiến lồn': 4426, 'nội_tâm': 3049, 'nội_tâm kia': 3050, 'kia kia': 1730, 'kia kiểu': 1731, 'kiểu lol': 1761, 'lol thế': 1901, 'thế ai': 3641, 'ai đây': 14, 'đây đâu': 4649, 'nhìu': 2805, 'nóng': 3012, 'ấm': 4924, 'công_ty': 812, 'chủ_quản': 577, 'nhân_viên': 2794, 'khi': 1661, 'duck': 1053, 'bìa': 159, 'khoe': 1669, 'theanh': 3499, 'công_ty chủ_quản': 813, 'chủ_quản lý_do': 578, 'lý_do nhân_viên': 2057, 'nhân_viên ko': 2795, 'thèm trách_nhiệm': 3556, 'trách_nhiệm khi': 3786, 'khi fb': 1662, 'fb thằng': 1204, 'thằng viết': 3635, 'viết là': 4089, 'là nguyễn': 1969, 'nguyễn việt': 2656, 'việt đức': 4094, 'đức duck': 4870, 'duck ngay': 1054, 'ngay ảnh': 2581, 'ảnh bìa': 4918, 'bìa nó': 160, 'nó khoe': 2984, 'khoe làm': 1670, 'làm theanh': 1986, 'theanh năm': 3500, 'năm đm': 3014, 'đm bọn': 4569, 'bọn hãm': 245, 'ngầu': 2684, 'trung hiếu': 3779, 'vũ huyền': 4188, 'dẻo': 1152, 'giọng dẻo': 1304, 'dẻo ncc': 1153, 'đkm': 4567, 'phép': 3123, 'dí': 1089, 'đù má': 4683, 'toàn mấy': 3737, 'xin phép': 4270, 'vào mặt': 4137, 'mũi đỉnh': 2390, 'dòm': 1090, 'dòm mặt': 1091, 'mặt giả_tạo': 2442, 'giả_tạo mắc': 1275, 'yêu cho': 4363, 'đậu': 4767, 'trùm': 3812, 'boom hàng': 102, 'đỗ thu': 4848, 'thu uyên': 3526, 'uyên vl': 4057, 'công_chúng': 809, 'phế_thải': 3154, 'là của': 1960, 'của công_chúng': 933, 'công_chúng loại': 810, 'loại phế_thải': 1928, 'phế_thải là': 3155, 'thuê nè': 3531, 'nè luôn': 2961, 'luôn đuma': 1943, 'giọng ấm': 1314, 'lozzz': 1917, 'nứng vãi': 3058, 'di_do': 1008, 'neu': 2569, 'côn': 804, 'mui': 2254, 'nhin': 2736, 'xh': 4267, 'thu di_lay': 3523, 'trai ma': 3748, 'ma lon': 2167, 'lon tien': 1906, 'tien danh': 3678, 'danh no': 983, 'no mot': 2899, 'mot tran': 2239, 'tran roi': 3753, 'roi dui': 3242, 'dui di_do': 1059, 'di_do dang': 1009, 'dang mat': 979, 'net neu': 2568, 'neu côn': 2570, 'côn voi': 805, 'voi nay': 4118, 'mat mui': 2185, 'mui nao': 2255, 'nao nhin': 2548, 'nhin xh': 2737, 'đâm': 4643, 'cặp': 906, 'đâm chết': 4644, 'chuyên': 397, 'cảm_động': 876, 'súng': 3379, 'nhiều đi': 2750, 'đi mua': 4509, 'mua súng': 2251, 'súng bắn': 3380, 'bắn tụi': 215, 'tụi đi': 4028, 'chung': 394, 'chung mũi': 395, 'nuwngs': 2921, 'nuwngs lon': 2922, 'gãy': 1342, 'kèn': 1801, 'mê chi': 2335, 'chi hàm_răng': 361, 'hàm_răng gãy': 1489, 'gãy kèn': 1343, 'kèn chết': 1802, 'chết ơi': 521, 'già cx': 1256, 'cx chết': 720, 'hẳn_hoi': 1590, 'tự_hào': 4041, 'mẹ đòi': 2486, 'đòi nuôi': 4670, 'nuôi làm': 2924, 'làm thế': 1987, 'thế tội': 3645, 'tội con': 4018, 'con sau_này': 672, 'sau_này lên': 3312, 'lên không': 2026, 'không dám': 1703, 'dám tự_hào': 1078, 'tự_hào mẹ': 4042, 'chửi hả': 590, 'hôm_qua': 1545, 'má mày': 2311, 'mày thằng': 2301, 'khóc': 1697, 'vú': 4179, 'show vú': 3331, 'vú đi': 4180, 'chog': 381, 'ăn chả': 4433, 'chả ăn': 477, 'ơii': 4901, 'lịt': 2115, 'mọe': 2498, 'lịt mọe': 2116, 'đi phò': 4525, 'phò đi': 3129, 'đi cũng': 4497, 'hở': 1625, 'lợi': 2157, 'cười hở': 854, 'hở lợi': 1626, 'chấm_mút': 481, 'ngu_dốt': 2637, 'là câu': 1959, 'miệng': 2218, 'ơi miệng': 4893, 'miệng to_thế': 2219, 'apple': 36, 'watch': 4250, 'đeo apple': 4479, 'apple watch': 37, 'thế_nào': 3650, 'ưu_tiên': 4914, 'cccc': 338, 'nho cccc': 2755, 'hít_hà': 1532, 'onl': 3083, 'nhó': 2810, 'helo nhó': 1418, 'trừ': 3856, 'hình': 1523, 'tâm đừng': 3911, 'sợ lắm': 3419, 'dơ_dáy': 1112, 'page dơ_dáy': 3087, 'dơ_dáy vcl': 1113, 'ghê chị': 1222, 'cút hộ': 822, 'miếng là': 2212, 'là miếng': 1965, 'miếng nhục': 2213, 'hình_như': 1524, 'ig': 1634, 'hình_như đéo': 1525, 'đéo nó': 4657, 'lý hay': 2055, 'giet': 1250, 'duoi': 1069, 'di_la': 1010, 'giet may': 1251, 'may ban': 2188, 'duoc roi': 1068, 'vời': 4225, 'bản_lĩnh': 189, 'vợ như_vậy': 4238, 'ổn': 4935, 'ăn_ở': 4445, 'niềm': 2884, 'đàn_bà những': 4603, 'những niềm': 2879, 'niềm đau': 2885, 'comment': 658, 'nhat vy': 2727, 'to mắt': 3717, 'uot': 4050, 'nhạt vc': 2834, 'vc uot': 4074, 'thành_phần': 3547, 'mấy thành_phần': 2412, 'trăm': 3815, 'mấy trăm': 2415, 'trăm triệu': 3816, 'ánh': 4397, 'dui ghê_á': 1060, 'tik': 3682, 'tâm cười': 3895, 'em ik': 1184, 'nhuc': 2762, 'mũi đẹp': 2389, 'đẹp chị': 4775, 'hãn': 1516, 'máu_thịt': 2321, 'ck hãn': 613, 'hãn bình_tĩnh': 1517, 'bình_tĩnh gặp': 168, 'gặp ck': 1375, 'ck bay': 610, 'bay nó': 57, 'nó cắt_cổ': 2981, 'cắt_cổ vk': 897, 'vk lun': 4097, 'lun mà': 1937, 'mà trả_lời': 2281, 'trả_lời dm': 3830, 'dm ko': 1035, 'ko liên_quan': 1779, 'liên_quan ứa': 1873, 'ứa máu_thịt': 4942, 'mom': 2233, 'tat': 3468, 'dong': 1041, 'suong': 3361, 'mơ': 2392, 'càng': 721, 'vlin': 4107, 'cười vlin': 860, 'đth': 4580, 'view': 4084, 'vỡ màn_hình': 4227, 'căng': 825, 'trinh': 3770, 'nch chị': 2558, 'tổn_thương': 4014, 'tổn_thương khác': 4015, 'tâm xạo': 3907, 'noi chuyen': 2906, 'vi': 4080, 'mềmn': 2487, 'ebay': 1180, 'cong': 692, 'the_giới': 3497, 'co phai': 651, 'phai vi': 3107, 'vi lo': 4082, 'lo lam': 1886, 'lam an': 1838, 'an nen': 21, 'nen quen': 2566, 'quen dan': 3190, 'dan ngoại': 971, 'ngoại nhu': 2618, 'nhu cau': 2757, 'cau lam': 324, 'lam đẹp': 1841, 'đẹp co': 4777, 'co nhu': 650, 'cau sinh': 325, 'sinh ly': 3334, 'ly nua': 1950, 'nua nhung': 2916, 'nhung thi': 2766, 'thi người': 3507, 'người vo': 2672, 'vo se': 4115, 'se lay': 3316, 'lay mềmn': 1846, 'mềmn trùm': 2488, 'trùm lai': 3813, 'lai chu': 1835, 'chu khong': 390, 'khong du': 1675, 'du can': 1048, 'can dam': 318, 'dam de': 964, 'de cai': 996, 'cai lai': 305, 'lai voi': 1836, 'chong dau': 385, 'dau vi': 988, 'vi biet': 4081, 'biet dang': 67, 'dang ebay': 977, 'ebay la': 1181, 'la cong': 1830, 'cong bo': 693, 'bo len': 89, 'len ca': 1850, 'ca the_giới': 295, 'the_giới biet': 3498, 'biet roi': 68, 'tâm to': 3904, 'to yêu': 3722, 'yêu tâm': 4367, 'thần': 3613, 'nguyễn đức': 2658, 'sáng': 3365, 'gọi ik': 1380, 'giẻ': 1292, 'chìm': 424, 'bố_láo': 268, 'lên đi': 2028, 'đuổi': 4589, 'ln': 1882, 'đuổi đi': 4591, 'hơi hô': 1552, 'dễ': 1154, 'thô': 3573, 'chỉnh': 523, 'mũi thô': 2378, 'thô lên': 3574, 'lên live': 2027, 'live chỉnh': 1866, 'chỉnh đc': 524, 'quá_vậy': 3199, 'chụy': 570, 'nói_chuyện fan': 3007, 'fan thân': 1202, 'rơi': 3279, 'hàm': 1485, 'răg': 3273, 'coi để': 656, 'để sợ': 4800, 'cười rơi': 856, 'rơi hàm': 3280, 'hàm răg': 1486, 'răg mặt': 3274, 'di_anh': 1005, 'lao': 1843, 'no di_anh': 2893, 'di_anh co': 1006, 'đi thấy': 4530, 'thấy mũi': 3611, 'mũi muốn': 2373, 'muốn đấm': 2261, 'đấm phát': 4736, 'mh': 2203, 'hơi vô_duyên': 1554, 'mac': 2171, 'cc toe_toét': 336, 'toe_toét cơ': 3728, 'cơ mac': 843, 'bím': 171, 'bích': 170, 'võ thị': 4178, 'đọc đi': 4827, 'nói nó': 3002, 'diễn_viên': 1029, 'diễn quá': 1026, 'anh ck': 25, 'hoang_mang': 1446, 'cắt': 895, 'em_gái': 1189, 'từ_thiện': 4037, 'làm từ_thiện': 1988, 'thịt': 3661, 'muốn thịt': 2260, 'thịt trâu': 3662, 'ko não': 1787, 'di_a': 1004, 'da cho': 954, 'cho chet': 373, 'no di_a': 2892, 'tx': 3871, 'toang': 3725, 'lâu lắm': 2009, 'ra_vẻ': 3233, 'hài vãi': 1483, 'kb': 1648, 'emm': 1192, 'tok': 3730, 'tik tok': 3683, 'bàn_phím': 126, 'đi đừng': 4544, 'đừng cười': 4877, 'gảnh': 1369, 'cười mà': 855, 'mũi sợ': 2376, 'sợ vl': 3422, 'lều': 2111, 'trả_lời bình_luận': 3829, 'bình_luận đi': 165, 'đái quần': 4623, 'hay đấy': 1411, 'nấu': 3023, 'thì đi': 3567, 'rảnh nợ': 3282, 'hồi': 1614, 'buòi': 109, 'xik': 4268, 'chẳng chút': 495, 'dàn_xếp': 1073, 'anti gọi': 34, 'trơ_trẽn': 3819, 'bị vẩu': 239, 'vẩu lâu': 4196, 'ngoắt': 2622, 'mỏ ngoắt': 2507, 'ngoắt ngoắt': 2623, 'tổ_chức': 4013, 'thật_ra': 3619, 'xử_lý hay': 4352, 'me đi': 2201, 'chúc_mừng sinh_nhật': 449, 'nhân_hậu': 2791, 'đm tao': 4574, 'tao no': 3464, 'mưa': 2393, 'ong ck': 3082, 'nể phục': 3035, 'chồng tỉnh': 556, 'dạ': 1120, 'tự_nhiên khen': 4045, 'khen dạ': 1660, 'dạ vang': 1121, 'vang xong': 4065, 'xong tí': 4292, 'tí cái': 3925, 'cái địt_mẹ': 748, 'thần_kinh': 3614, 'cột': 922, 'cột tóc': 923, 'biểu_cảm': 83, 'đéo thể': 4659, 'sang': 3304, 'mạt': 2398, 'dan chửi': 966, 'chửi mạt': 592, 'mạt lợn': 2399, 'lợn kìa': 2162, 'xấu vcl': 4340, 'bấm': 198, 'hẹn': 1591, 'đầy_đủ': 4756, 'qua_lại': 3175, 'cuối_cùng': 715, 'hư_thân': 1560, 'liên_sĩ': 1874, 'mắn': 2425, 'cuộc_sống': 717, 'phụ_nữ ngu': 3160, 'ngu ck': 2633, 'ck lo': 616, 'lo đầy_đủ': 1887, 'đầy_đủ ko': 4757, 'ko mê': 1784, 'mê lời': 2336, 'lời nhắn_tin': 2151, 'nhắn_tin qua_lại': 2851, 'qua_lại cuối_cùng': 3176, 'cuối_cùng sẽ': 716, 'sẽ chấp_nhận': 3404, 'chấp_nhận người': 483, 'người hư_thân': 2670, 'hư_thân mất_nết': 1561, 'mất_nết ko': 2404, 'ko liên_sĩ': 1780, 'liên_sĩ như_vậy': 1875, 'như_vậy hy_vọng': 2825, 'hy_vọng chồng': 1477, 'chồng mai': 550, 'mai mắn': 2173, 'mắn thành_công': 2426, 'thành_công trong': 3546, 'trong cuộc_sống': 3776, 'call': 311, 'lẹ': 2109, 'bánh mặt': 137, 'dit': 1019, 'len ma': 1851, 'lượt': 2077, 'qq': 3173, 'này chết': 2937, 'chết hẳn': 509, 'thắng': 3621, 'đàng_hoàng': 4618, 'mít': 2339, 'đánh_ghen': 4639, 'đàn_ông đàn_bà': 4614, 'vlz': 4110, 'má hô': 2310, 'hô vlz': 1541, 'bê': 151, 'chòi': 430, 'shop': 3328, 'chủ shop': 574, 'mặt vk': 2456, 'thề': 3652, 'pùn': 3171, 'có_lẽ': 796, 'cái quần': 744, 'thận': 3617, 'hầm': 1584, 'đất': 4737, 'hầm cầu': 1585, 'đi là': 4505, 'dẹođĩ': 1146, 'nói_chuyện dẹođĩ': 3006, 'dẹođĩ mẹ': 1147, 'nê': 2970, 'độ': 4849, 'uyên kẹo': 4054, 'tỉ': 3996, 'lũ chó': 2066, 'chó lợn': 436, 'no_di': 2902, 'danh chet': 981, 'me no_di': 2198, 'thu cho': 3521, 'anh_hùng bàn_phím': 31, 'cai lon': 307, 'lon dit': 1905, 'dit me': 1020, 'điiii': 4551, 'hấp': 1583, 'ảnh sợ': 4919, 'nhạt vcl': 2835, 'xây': 4311, 'may_ra': 2192, 'đi thì': 4528, 'bên': 156, 'cạnh': 866, 'bên cạnh': 157, 'như thế_nào': 2819, 'tâm_thần': 3914, 'bình_thường': 166, 'báo_công_an': 141, 'giải_quyết': 1279, 'tai_tiếng': 3451, 'giề': 1296, 'què': 3204, 'thoại': 3519, 'you': 4359, 'love you': 1915, 'ghe': 1215, 'xinhh': 4285, 'cực': 950, 'cực rác': 951, 'scandal': 3313, 'gi met': 1232, 'đbrr': 4459, 'hận': 1586, 'hận đàn_bà': 1587, 'người_tình': 2680, 'ngông': 2665, 'đi ah': 4490, 'nghee': 2589, 'traii': 3749, 'huống': 1469, 'chii': 363, 'má nghee': 2313, 'nghee giọng': 2590, 'giọng traii': 1310, 'traii nứng': 3750, 'nứng huống': 3055, 'huống chii': 1470, 'chii tâm': 364, 'phú': 3135, 'tiểu_nhân': 3706, 'đmm': 4576, 'nè tâm': 2966, 'thốn': 3664, 'uong': 4049, 'vđ': 4186, 'nội_dung': 3048, 'cấu_hình': 883, 'cấu_hình mặt': 884, 'mặt kì': 2445, 'kì ta': 1812, 'ta mũi': 3443, 'trâu mồm': 3796, 'mồm hô': 2511, 'hô sợ': 1539, 'bẹt': 229, 'mũi bẹt': 2358, 'bà_cô': 122, 'nhiễm': 2753, 'áo': 4398, 'lổi': 2134, 'trơ': 3817, 'trẻn': 3844, 'trơ trẻn': 3818, 'bọn trẻ': 248, 'chị ơiii': 536, 'ai gảnh': 12, 'halo': 1404, 'lướt': 2071, 'giùm': 1270, 'nhờn': 2862, 'giấy_thấm': 1285, 'giầu': 1287, 'sẵn': 3399, 'tiện': 3707, 'mũi dầu': 2364, 'dầu nhờn': 1129, 'nhờn chị': 2863, 'chị ib': 529, 'ib mua': 1631, 'mua giấy_thấm': 2248, 'giấy_thấm giầu': 1286, 'giầu sẵn': 1288, 'sẵn tiện': 3400, 'tiện thấm': 3708, 'thấm cái': 3601, 'cái nhân_cách': 741, 'nhân_cách nhờn': 2790, 'chị hong': 528, 'chăm_bẵm': 460, 'từng': 4038, 'ốm_đau': 4932, 'sắm': 3397, 'cắm_sừng': 893, 'dậyko': 1132, 'ôi đàn_bà': 4416, 'đàn_bà là': 4600, 'là dao': 1961, 'dao tim': 985, 'tim máu': 3686, 'máu chồng': 2319, 'chồng ngày': 552, 'ngày đêm': 2660, 'đêm lo': 4665, 'lo gia_đình': 1885, 'gia_đình chăm_bẵm': 1242, 'chăm_bẵm từng': 461, 'từng tí': 4039, 'tí ốm_đau': 3926, 'ốm_đau mua': 4933, 'mua xe': 2252, 'xe sắm': 4264, 'sắm đồ': 3398, 'đồ nó': 4841, 'nó bảo': 2975, 'bảo chồng': 192, 'ko quan_tâm': 1790, 'quan_tâm cắm_sừng': 3180, 'cắm_sừng đầu': 894, 'đầu chồng': 4751, 'chồng già_mồm': 548, 'già_mồm là': 1261, 'là đồ': 1977, 'đồ gái': 4838, 'gái già_mồm': 1339, 'già_mồm đồ': 1266, 'đồ dậyko': 4837, 'dậyko vợ': 1133, 'làm mẹ': 1985, 'giấu': 1284, 'kèm': 1800, 'hoàn': 1457, 'đo': 4577, 'hay oi': 1410, 'xuất_hiện': 4298, 'tream': 3763, 'live tream': 1868, 'đừng nhe': 4880, 'nhe nhiều': 2730, 'nhiều quá': 2746, 'cá_nhân': 724, 'loàng': 1923, 'nửa': 3061, 'đàn_bà tánh': 4608, 'tánh lăng': 3887, 'lăng loàng': 2062, 'loàng đàn_ông': 1924, 'đàn_ông sợ': 4613, 'sợ lấy': 3418, 'lấy chồng': 2090, 'chồng nửa': 553, 'nửa củng': 3062, 'củng kg': 936, 'kg hạnh_phúc': 1654, 'hạnh_phúc thằng': 1571, 'thằng rồi': 3634, 'rồi củng': 3292, 'củng nửa': 937, 'tố_cáo': 4003, 'nữ đi': 3064, 'cj nghe': 607, 'nghe đt': 2588, 'thả tym': 3596, 'nhug': 2763, 'sag': 3298, 'chị cười': 527, 'chành': 407, 'tiệt': 3710, 'cj cj': 605, 'địt_mẹ mày': 4820, 'xạol đi': 4336, 'muộn_màng': 2266, 'đóng phim': 4677, 'thông_tin': 3579, 'nói_chuyện bố_láo': 3005, 'bố_láo con': 269, 'tâm cute': 3894, 'mũi quá': 2375, 'mẹ nói': 2480, 'nói đeo': 3003, 'đeo gi': 4481, 'sung_sướng rồi': 3359, 'rồi nứng': 3293, 'này_nọ': 2949, 'bảo đóng': 197, 'ta đi': 3445, 'đi đóng': 4541, 'gội': 1390, 'gội đầu': 1391, 'hiệp': 1438, 'cướp': 852, 'đống': 4833, 'dị vl': 1161, 'sẹo': 3401, 'đập vỡ': 4766, 'mặt đĩ': 2459, 'già_mồm đi': 1264, 'ah loại': 8, 'loại vợ': 1929, 'vậy khắc': 4202, 'khắc vết': 1716, 'vết sẹo': 4210, 'sẹo mặt': 3402, 'xiên': 4286, 'nhát': 2784, 'tát nào': 3890, 'nào vui': 2932, 'vui mẹ': 4126, 'mẹ hóng': 2471, 'hóng cái': 1536, 'cái tát': 746, 'tát xiên': 3892, 'xiên máy': 4287, 'máy nhát': 2323, 'khỏe': 1717, 'bố lạy': 265, 'lạy mày': 2086, 'giọng tởm': 1311, 'tởm chị': 4024, 'há': 1499, 'phạm thị': 3146, 'thị kim_ngân': 3659, 'kim_ngân moá': 1741, 'moá này': 2241, 'này bắn': 2935, 'bắn há': 214, 'há vợ': 1500, 'số': 3408, 'đặt_hàng': 4773, 'ng đặt_hàng': 2576, 'ta_đây': 3446, 'chết đàn_bà': 519, 'đàn_bà bậy': 4595, 'bậy cãi': 210, 'cãi ra_vẻ': 768, 'ra_vẻ ta_đây': 3234, 'dẹo dẹo': 1138, 'đập vô': 4765, 'vô mặt': 4166, 'đàng_bà': 4615, 'đàng_bà biết': 4616, 'biết nhục': 77, 'mũi còn': 2362, 'còn to': 779, 'đc hong': 4464, 'loài': 1920, 'loan': 1893, 'viên': 4086, 'văn_hóa': 4184, 'kia xạo': 1735, 'dập': 1130, 'mẹ mà': 2474, 'mà đòi': 2285, 'dư': 1114, 'ngộ': 2698, 'ko thì': 1792, 'thẳng': 3637, 'cha_mẹ': 343, 'giang_hồ': 1246, 'thuí': 3534, 'sử như_vậy': 3430, 'như_vậy đúng': 2826, 'đúng bỏ_mẹ': 4686, 'bỏ_mẹ đàn_bà': 258, 'hư thuí': 1558, 'thuí đi': 3535, 'đi đm': 4540, 'đm mặt': 4571, 'mặt quỷ': 2451, 'quỷ cái': 3224, 'cái thấy': 745, 'thấy ghét': 3608, 'sâu vl': 3373, 'mua áo': 2253, 'đánh_đập': 4641, 'đừng đánh_đập': 4886, 'phụ_nữ đàn_bà': 3162, 'mù': 2348, 'nhiên': 2740, 'chín': 426, 'họ': 1598, 'cc đm': 337, 'tâm lồn': 3901, 'tao mày': 3463, 'khép miệng': 1693, 'mái': 2315, 'thiên': 3510, 'hahha': 1401, 'thị thiên': 3660, 'thiên trang': 3511, 'trang giọng': 3757, 'giọng đây': 1313, 'đây nge': 4648, 'nge nứng': 2583, 'vãi hahha': 4151, 'kiều': 1753, 'hổ': 1620, 'hồi nó': 1615, 'cug': 705, 'tham': 3481, 'tiền_đạo': 3704, 'đĩ lồn': 4703, 'lồn hàng': 2124, 'hàng tiền_đạo': 1496, 'tiền_đạo chang': 3705, 'chang hàm_răng': 349, 'hàm_răng chó': 1488, 'chó thấy': 439, 'thấy gê': 3609, 'gê dc': 1347, 'dc đóng': 992, 'đỡ': 4857, 'mk': 2220, 'nghành': 2598, 'vâu': 4145, 'bố vâu': 267, 'vâu vl': 4146, 'màu': 2292, 'đi má': 4510, 'tức giùm': 4032, 'lẻ': 2110, 'tại_trận': 3962, 'cãiđm': 769, 'cổ_họng': 915, 'bắt tại_trận': 223, 'tại_trận cãiđm': 3963, 'cãiđm mấy': 770, 'mấy nhát': 2408, 'nhát vô': 2785, 'vô cổ_họng': 4164, 'cổ_họng cãi': 916, 'bẩn vđ': 206, 'kệ mịa': 1822, 'mịa tâm': 2494, 'dày': 1074, 'in': 1639, 'chặn lồn': 501, 'ngoại_tình còn': 2620, 'hài_hước': 1484, 'wow': 4251, 'wow bất_ngờ': 4252, 'phản_động': 3152, 'chủ cái': 573, 'từ_chối': 4036, 'lol đời': 1903, 'đời đẹp': 4856, 'đẹp ơi': 4782, 'cs': 694, 'trà': 3783, 'sữa': 3436, 'khổ_thân': 1723, 'trà sữa': 3784, 'tóc xinh': 3932, 'kết': 1818, 'khôn': 1699, 'nặng': 3028, 'nhẹ': 2853, 'minh ngọc': 2210, 'ngọc dơ_bẩn': 2692, 'dơ_bẩn truyền_thông': 1111, 'khâm_phục': 1690, 'sợ sợ': 3420, 'cửa': 949, 'quá ngu': 3196, 'mà ngu': 2279, 'sena': 3317, 'phòng': 3131, 'bo vo': 95, 'ma noi': 2170, 'sợ đấy': 3423, 'yeu': 4356, 'lan': 1842, 'ji': 1645, 'dinh': 1015, 'tra': 3740, 'sản_xuất đi': 3393, 'cua gái': 704, 'bắt đc': 224, 't_out': 3438, 't_out thư': 3439, 'no may': 2897, 'xanh': 4258, 'cấm': 880, 'cdm': 339, 'có tiền': 789, 'xác_nhận': 4305, 'clmm': 636, 'đi nè': 4522, 'đối_với': 4832, 'rip': 3240, 'less': 1855, 'them': 3502, 'nó cũng': 2980, 'ngại': 2683, 'hoai': 1442, 'noi hoai': 2910, 'chị trần': 533, 'trần tâm': 3835, 'cơm': 845, 'tâm ơii': 3912, 'mút bánh': 2353, 'dick': 1013, 'thằng dick': 3628, 'dick chó_đẻ': 1014, 'chó_đẻ vãi': 442, 'chê cút': 422, 'cút làm': 823, 'ra xin_lỗi': 3232, 'đi làm': 4506, 'làm cho': 1981, 'cho mỏi': 375, 'mỏi mồm': 2509, 'mồm vợ': 2514, 'vợ đấy': 4241, 'đấy cũng_nên': 4741, 'cũng_nên luôn': 840, 'đấy gì': 4742, 'gì cave': 1349, 'trí': 3802, 'trí lý': 3803, 'lý cái': 2054, 'cái lz': 734, 'lz ngta': 1953, 'ngta dị': 2626, 'thấy xinh': 3612, 'dell': 997, 'nhỏ_xíu': 2859, 'ám_ảnh': 4395, 'ám_ảnh vl': 4396, 'xin_lỗi thì': 4276, 'thì tha': 3565, 'chữa': 600, 'top': 3731, 'trending': 3766, 'top trending': 3732, 'mấy shipper': 2411, 'cm': 637, 'là đẹp': 1976, 'pham thu': 3109, 'hã': 1511, 'đế': 4786, 'mũi lỗi': 2371, 'lỗi hã': 2138, 'hã nổ': 1512, 'địa_chỉ đế': 4812, 'đế né': 4787, 'gr': 1332, 'tập_đoàn': 3975, 'trò': 3804, 'rẻ_mạt': 3285, 'ô_hợp': 4412, 'đừng bỏ_qua': 4875, 'bỏ_qua những': 260, 'những page': 2880, 'page quyền': 3093, 'quyền các': 3193, 'các gr': 727, 'gr ăn_theo': 1333, 'ăn_theo bọn': 4441, 'bọn nữa': 246, 'nữa người': 3068, 'người chúng': 2669, 'chúng cả': 452, 'cả tập_đoàn': 868, 'tập_đoàn truyền_thông': 3976, 'bẩn những': 205, 'những chiêu': 2877, 'chiêu trò': 367, 'trò rẻ_mạt': 3805, 'rẻ_mạt khác': 3286, 'khác một': 1684, 'một đám': 2522, 'đám ô_hợp': 4625, 'duong': 1070, 'hon': 1450, 'vác_mặt': 4142, 'rẻ_tiền': 3287, 'dử': 1178, 'hảngậm': 1581, 'mụ vk': 2538, 'vk nhục_nhã': 4098, 'nhục_nhã đi': 2873, 'đi mặt_dày': 4512, 'mặt_dày thiệt': 2464, 'thiệt dám': 3514, 'dám vác_mặt': 1079, 'vác_mặt nhà': 4143, 'nhà ck': 2770, 'ck lấy': 617, 'lấy đồ': 2093, 'đồ ck': 4835, 'ck hiền': 612, 'hiền nè': 1435, 'nè tui': 2965, 'tui đánh': 3864, 'đánh lòi': 4634, 'lòi lồn': 2035, 'lồn đĩ': 2130, 'đĩ rẻ_tiền': 4707, 'rẻ_tiền nhục': 3288, 'nhục làm': 2868, 'làm xấu_hổ': 1990, 'xấu_hổ phụ_nữ': 4345, 'phụ_nữ nứng': 3161, 'lồn dử': 2122, 'dử lắm': 1179, 'lắm hảngậm': 2102, 'hảngậm bú': 1582, 'cu ck': 698, 'ck không': 614, 'không bằng': 1701, 'bằng bú': 227, 'cu thằng': 700, 'thằng bồ': 3624, 'nhận_lời': 2845, 'đừng khóc': 4878, 'lợi đcm': 2159, 'đcm nguyễn': 4472, 'họng': 1606, 'đi ngoại_tình': 4515, 'xúc': 4322, 'vật': 4199, 'xúc vật': 4323, 'bạn_bè': 184, 'ko các': 1773, 'chịu': 542, 'quá ta': 3197, 'wá': 4255, 'cô gái': 801, 'mày không': 2297, 'oiii': 3078, 'chế': 503, 'cũng chẳng': 833, 'để ng': 4799, 'chửi chết': 589, 'ip': 1640, 'làm_trò': 2000, 'người không': 2671, 'mai_mốt': 2176, 'chừng': 587, 'đĩ kiểu': 4701, 'kiểu khinh': 1760, 'khinh ngta': 1664, 'ngta hám': 2627, 'hám gái': 1502, 'thich': 3508, 'nhặt': 2852, 'chửi mấy': 593, 'cc mầy': 335, 'hối_hận': 1610, 'rui': 3246, 'ngoan': 2609, 'giờ xin_lỗi': 1326, 'mũi lợn': 2372, 'mặt cho': 2440, 'tát con': 3889, 'thanh_trừng': 3491, 'tia': 3675, 'tia gái': 3676, 'xử': 4349, 'yêu chị': 4365, 'tẹt hô': 3992, 'trim': 3769, 'bao tiền': 49, 'im_cmnr': 1638, 'kia im_cmnr': 1729, 'hàm_răng nạo': 1492, 'mượn phút': 2396, 'tết': 3995, 'tàn_ác': 3880, 'xuân': 4297, 'khiếp': 1665, 'trộn': 3850, 'pr kem': 3169, 'kem trộn': 1651, 'đánh_đập gì': 4642, 'ruột_gan': 3247, 'dkm mà': 1031, 'mà lộn': 2277, 'lộn ruột_gan': 2143, 'luật': 1948, 'nhận': 2844, 'xấu chết': 4339, 'hí': 1527, 'hí hí': 1529, 'hí cc': 1528, 'huấn': 1468, 'bo no': 92, 'phuc': 3116, 'ko đi': 1796, 'tren': 3764, 'trend': 3765, 'da sai': 957, 'dạybỏ': 1125, 'ơiloại': 4907, 'đcm đỉ': 4474, 'đỉ đéo': 4805, 'đéo nhục': 4656, 'nhục còn': 2867, 'còn ăn_nói': 783, 'ăn_nói dạybỏ': 4439, 'dạybỏ mẹ': 1126, 'đi ơiloại': 4546, 'ơiloại cặn_bã': 4908, 'cặn_bã ngoài': 905, 'ngoài xã_hội': 2615, 'xã_hội nhiều': 4314, 'nhiều lắm': 2743, 'lắm rùi': 2105, 'sóng': 3375, 'bền': 231, 'cung ko': 707, 'ckao': 620, 'dạy': 1124, 'ngang': 2579, 'bánh sinh_nhật': 138, 'dân mạng': 1084, 'kia sợ': 1734, 'phải đi': 3151, 'lào': 2004, 'đít': 4668, 'đông lào': 4681, 'ck ko': 615, 'chiện': 369, 'gke': 1328, 'trâu mắt': 3794, 'mắt lợn': 2429, 'đỹ': 4889, 'dẻ': 1150, 'mắt to': 2432, 'to nè': 3718, 'nè mồm': 2963, 'mồm to': 2513, 'nè mũi': 2962, 'nè cái': 2959, 'mặt đỹ': 2461, 'đỹ lon': 4890, 'lon trần': 1908, 'tâm nè': 3903, 'nè nhân_cách': 2964, 'nhân_cách dẻ': 2789, 'dẻ rách': 1151, 'rách đụ': 3256, 'bôi': 174, 'thua': 3527, 'thua đĩ': 3528, 'shit': 3326, 'lợi trần': 2158, 'trần cno': 3832, 'cno súc_vật': 648, 'súc_vật con_người': 3378, 'con_người ác': 689, 'già_mồm thằng': 1263, 'thằng mày': 3631, 'nha_má': 2723, 'đầy': 4755, 'thứ nó': 3669, 'chồng xử_lý': 558, 'ức_chế': 4943, 'da_gà': 958, 'má nổi': 2314, 'nổi da_gà': 3044, 'mẹ nch': 2477, 'nch dẹo': 2560, 'dẹo chó': 1137, 'miền nam': 2217, 'ngừi': 2712, 'lày': 2005, 'qa': 3172, 'thì_chớ': 3569, 'lão': 2012, 'kỳ': 1825, 'style': 3350, 'nồi': 3039, 'đổi style': 4846, 'style cái': 3351, 'cái mái': 738, 'mái cute': 2316, 'cute vãi': 714, 'vãi nồi': 4156, 'oan': 3071, 'mang': 2179, 'tùng_xẻo': 3946, 'chồng vũ': 557, 'vũ oan': 4189, 'oan vợ': 3072, 'vợ ngậm': 4236, 'cặc nói': 900, 'nói ngậm': 3001, 'cặc với': 902, 'bồ địt': 272, 'địt lần': 4816, 'lần là': 2098, 'là hết': 1963, 'hết địt_mẹ': 1594, 'địt_mẹ đĩ': 4821, 'đĩ mang': 4704, 'mang mà': 2180, 'mà tùng_xẻo': 2282, 'tùng_xẻo nó': 3947, 'bánh mà': 136, 'vô_duyên chị': 4172, 'giáo_dục': 1269, 'hôm chị': 1543, 'dung la': 1064, 'chuyển': 398, 'chơi trò': 463, 'to_vậy': 3724, 'tự_nhiên mũi': 4046, 'mũi to_vậy': 2381, 'má mắc': 2312, 'bọn có': 244, 'uyên sợ': 4055, 'sợ cộng_đồng': 3416, 'cộng_đồng anti': 920, 'anti diss': 33, 'diss mới': 1018, 'mới mọi': 2529, 'mọi đừng': 2500, 'sát_thủ': 3370, 'vd': 4079, 'dza': 1072, 'võ phan': 4177, 'phan kiều': 3111, 'kiều oanh': 1754, 'to vc': 3720, 'video': 4083, 'thu dan': 3522, 'xác_định': 4306, 'vỏ': 4218, 'cụ': 928, 'chết cụ': 507, 'cụ đi': 929, 'nhã': 2796, 'thuận': 3539, 'nguyễn thuận': 2654, 'đu': 4581, 'nhà_trọ': 2779, 'là_lạ': 1978, 'đu vô': 4582, 'vô nhà_trọ': 4167, 'nhà_trọ không': 2780, 'không đeo': 1708, 'đeo dung': 4480, 'dung là_lạ': 1065, 'là_lạ đấy': 1979, 'não ngắn': 2957, 'ước đc': 4916, 'đc chào': 4461, 'noa': 2903, 'nâu': 2954, 'mắt noa': 2430, 'noa nâu': 2904, 'nâu đi': 2955, 'chắc_chắn': 489, 'quên': 3209, 'dở_vcl': 1171, 'diễn dở_vcl': 1025, 'tán': 3882, 'vk shit': 4099, 'shit cái': 3327, 'ko hối_hận': 1777, 'hối_hận tắt': 1611, 'tắt clip': 3983, 'clip tán': 633, 'tán đứa': 3883, 'đứa sml': 4867, 'sml bỏ': 3339, 'bỏ luôn': 250, 'cho hết': 374, 'ko lỗi': 1782, 'lên_tiếng': 2029, 'em nó': 1186, 'tây': 3917, 'kệ con_mẹ': 1820, 'gì tốn': 1355, 'cạk': 864, 'giẻ rách': 1293, 'ko giữ': 1775, 'vlog': 4109, 'leo_lẻo': 1852, 'kia cbi': 1725, 'cbi xách': 331, 'xách cu': 4310, 'cu chạy': 697, 'kia giọng': 1728, 'ấm vl': 4925, 'tau': 3469, 'hang_hốc': 1407, 'họ_hàng hang_hốc': 1600, 'tha lỗi': 3478, 'thương_tiếc': 3591, 'nỏ': 3038, 'em_trai loại': 1191, 'đàn_bà đuổi': 4611, 'đuổi thương_tiếc': 4590, 'thương_tiếc với': 3592, 'với chồng': 4223, 'chồng sướng': 555, 'sướng hoá': 3386, 'hoá óc': 1461, 'óc nỏ': 4410, 'chị_em càng': 538, 'càng thấy': 722, 'dưa_hấu': 1117, 'phương mắt': 3141, 'mắt tao': 2431, 'tao chấp_nhận': 3457, 'chấp_nhận những': 484, 'những dơ_bẩn': 2878, 'dơ_bẩn mày': 1110, 'già vl': 1257, 'vl rùi': 4106, 'public': 3170, 'trứng ráng': 3855, 'nch vs': 2563, 'cj add': 604, 'clgt': 630, 'xd': 4262, 'clgt xd': 631, 'làm_chi': 1994, 'chờ': 565, 'hãy yêu': 1520, 'yêu đi': 4368, 'chờ chi': 566, 'gay': 1213, 'hát': 1505, 'gớm cm': 1393, 'cị': 907, 'cị xấu': 908, 'đọng': 4828, 'cave me': 328, 'đi nhìu': 4518, 'nhìu đọng': 2806, 'đọng họng': 4829, 'khóc_lóc': 1698, 'đắp': 4768, 'vữa': 4246, 'thẳng_thế': 3638, 'mũi đắp': 2388, 'đắp vữa': 4769, 'vữa thẳng_thế': 4247, 't_thề': 3440, 'gọi trần': 1385, 'nhaaaaa': 2725, 'noi gi': 2907, 'tý': 3949, 'chả tý': 476, 'chìa': 423, 'hòn': 1533, 'trứng hòn': 3853, 'sẽ ko': 3405, 'bu cac': 106, 'cac tao': 300, 'tao ko': 3462, 'răng răng': 3277, 'tạ': 3958, 'kien': 1738, 'ngân': 2663, 'loi': 1894, 'đứa chơi': 4865, 'đĩ thế_mà': 4709, 'thế_mà già_mồm': 3649, 'lol trời': 1902, 'thầy huấn': 3616, 'mặt sát': 2452, 'sát màn_hình': 3368, 'câm mẹ': 761, 'fan nè': 1201, 'quâ': 3203, 'xàm lồn': 4303, 'cai mo': 308, 'vào_cuộc': 4139, 'quả': 3210, 'bự quả': 291, 'quả dưa_hấu': 3211, 'dưa_hấu ghê': 1118, 'rõ_ràng': 3268, 'rõ_ràng bảo': 3269, 'bảo cũng': 193, 'cũng đường': 837, 'đường giờ': 4717, 'giờ cãi': 1324, 'cãi cđ': 766, 'cđ lươn_lẹo': 827, 'loàn': 1921, 'đàng_bà trơ_trẽn': 4617, 'trơ_trẽn lăn': 3820, 'lăn loàn': 2060, 'loàn nhiều': 1922, 'nhiều mệt': 2745, 'mệt đó': 2492, 'đó đi': 4674, 'đi đem': 4538, 'đem mang': 4476, 'mang nhục': 2181, 'nhục mai_mốt': 2869, 'mai_mốt nó': 2177, 'cũng thôi': 834, 'vcut': 4078, 'dm xấu': 1036, 'xấu vcut': 4341, 'tâm hay': 3899, 'đầu tóc': 4752, 'tóc đầu': 3933, 'buồi dậy': 112, 'post': 3167, 'hs': 1463, 'dan do': 967, 'nhen': 2731, 'tắm': 3979, 'tắm biển': 3980, 'dân việt': 1085, 'má fan': 2309, 'nè hãy': 2960, 'hãy hiếp': 1519, 'hiếp đi': 1432, 'đi lộn': 4508, 'lộn hãy': 2142, 'con dan': 663, 'nết': 3029, 'mũi bao': 2355, 'bao nhiu': 48, 'nhiu tiền': 2739, 'tiền đang': 3702, 'đang sửa': 4454, 'sửa cái': 3433, 'cái nết': 742, 'nết bớt': 3030, 'ác_ý': 4392, 'co phan': 652, 'gia dinh': 1238, 'bộ': 275, 'câm miệng': 759, 'sung': 3357, 'nch mệt': 2562, 'úp': 4424, 'đàn_bà nên': 4604, 'ngươi': 2667, 'thoa': 3517, 'vật học': 4200, 'học nó': 1603, 'nó chết': 2978, 'chết từ': 516, 'dan toi': 973, 'dịch_bệnh': 1162, 'chứ đéo': 584, 'cưng ta': 850, 'duc vo': 1052, 'vo cai': 4113, 'mo cua': 2228, 'cua di': 703, 'la can': 1828, 'can cua': 317, 'thế ko': 3642, 'ko bik': 1771, 'êyy': 4405, 'mỏ lozzz': 2503, 'lozzz ngoắt': 1918, 'ngoắt như': 2624, 'như lozzz': 2815, 'lozzz tâm': 1919, 'tâm êyy': 3908, 'rác_rưởi nên': 3252, 'nên biến': 2972, 'thõa': 3580, 'điếm': 4558, 'rình_rập': 3263, 'lénngậm': 2021, 'lén': 2019, 'gái quê': 1340, 'quê bây_giờ': 3208, 'bây_giờ đĩ': 146, 'đĩ thõa': 4708, 'thõa lấy': 3581, 'lấy bậy': 2089, 'bậy sao': 211, 'sao đăng_ký': 3308, 'đăng_ký trung': 4694, 'trung quốc': 3780, 'quốc điếm': 3219, 'điếm đi': 4559, 'đi sướng': 4526, 'sướng ln': 3387, 'ln có': 1883, 'tiền rình_rập': 3700, 'rình_rập đi': 3264, 'đi chịch': 4496, 'chịch lénngậm': 541, 'lénngậm cc': 2022, 'cc lén': 333, 'lén làm_chi': 2020, 'làm_chi mang_tiếng': 1995, 'mang_tiếng nhục_nhã': 2183, 'nhục_nhã gái': 2872, 'tường': 3952, 'page lâu': 3089, 'lâu nó': 2010, 'nhiều rác': 2747, 'rác cơ': 3249, 'cơ lạ': 842, 'lạ giờ': 2079, 'giờ page': 1325, 'page lên_tiếng': 3090, 'lên_tiếng đấy': 2030, 'đấy muộn': 4743, 'muộn hơn': 2265, 'suog': 3360, 'thag': 3480, 'bat gap': 53, 'trâu_vậy': 3797, 'mũi lỗ': 2370, 'mũi trâu_vậy': 2383, 'trâu_vậy trời': 3798, 'đẹp cm': 4776, 'cm mù': 638, 'quách': 3200, 'lz vũ': 1954, 'vũ quách': 4190, 'thú': 3584, 'trốn': 3849, 'mời': 2532, 'kia chuẩn_bị': 1726, 'chuẩn_bị xách': 402, 'xách buòi': 4308, 'buòi chạy': 110, 'chạy kịp': 471}\n"
          ]
        }
      ]
    },
    {
      "cell_type": "code",
      "metadata": {
        "id": "YKbSpTlJL9dr",
        "colab": {
          "base_uri": "https://localhost:8080/",
          "height": 351
        },
        "outputId": "6c41edbb-c485-4044-9c6b-57fc5ef10756"
      },
      "source": [
        "%matplotlib inline\n",
        "sns.set_style(\"white\")\n",
        "sns.countplot(Y).set_title('Data')\n",
        "plt.show()"
      ],
      "execution_count": 16,
      "outputs": [
        {
          "output_type": "stream",
          "name": "stderr",
          "text": [
            "/usr/local/lib/python3.7/dist-packages/seaborn/_decorators.py:43: FutureWarning: Pass the following variable as a keyword arg: x. From version 0.12, the only valid positional argument will be `data`, and passing other arguments without an explicit keyword will result in an error or misinterpretation.\n",
            "  FutureWarning\n"
          ]
        },
        {
          "output_type": "display_data",
          "data": {
            "image/png": "[encoded data removed]",
            "text/plain": [
              "<Figure size 432x288 with 1 Axes>"
            ]
          },
          "metadata": {}
        }
      ]
    },
    {
      "cell_type": "code",
      "metadata": {
        "id": "ymMq52L7L-CV",
        "colab": {
          "base_uri": "https://localhost:8080/",
          "height": 351
        },
        "outputId": "3d045d4c-cb1d-4b8c-a7cf-a51f174fad67"
      },
      "source": [
        "%matplotlib inline\n",
        "sns.set_style(\"whitegrid\")\n",
        "sns.countplot(trainY).set_title('Data traning')\n",
        "plt.show()"
      ],
      "execution_count": 17,
      "outputs": [
        {
          "output_type": "stream",
          "name": "stderr",
          "text": [
            "/usr/local/lib/python3.7/dist-packages/seaborn/_decorators.py:43: FutureWarning: Pass the following variable as a keyword arg: x. From version 0.12, the only valid positional argument will be `data`, and passing other arguments without an explicit keyword will result in an error or misinterpretation.\n",
            "  FutureWarning\n"
          ]
        },
        {
          "output_type": "display_data",
          "data": {
            "image/png": "[encoded data removed]",
            "text/plain": [
              "<Figure size 432x288 with 1 Axes>"
            ]
          },
          "metadata": {}
        }
      ]
    },
    {
      "cell_type": "code",
      "metadata": {
        "id": "9YrQQe4IMHC_",
        "colab": {
          "base_uri": "https://localhost:8080/",
          "height": 351
        },
        "outputId": "eece6d1e-551d-49cc-83fa-2d18cf84101c"
      },
      "source": [
        "%matplotlib inline\n",
        "sns.set_style(\"whitegrid\")\n",
        "sns.countplot(testY).set_title('Data testing')\n",
        "plt.show()"
      ],
      "execution_count": 18,
      "outputs": [
        {
          "output_type": "stream",
          "name": "stderr",
          "text": [
            "/usr/local/lib/python3.7/dist-packages/seaborn/_decorators.py:43: FutureWarning: Pass the following variable as a keyword arg: x. From version 0.12, the only valid positional argument will be `data`, and passing other arguments without an explicit keyword will result in an error or misinterpretation.\n",
            "  FutureWarning\n"
          ]
        },
        {
          "output_type": "display_data",
          "data": {
            "image/png": "[encoded data removed]",
            "text/plain": [
              "<Figure size 432x288 with 1 Axes>"
            ]
          },
          "metadata": {}
        }
      ]
    },
    {
      "cell_type": "markdown",
      "metadata": {
        "id": "s4R4pUO1UTHN"
      },
      "source": [
        "#**6. Đánh giá kết quả, kết luận**"
      ]
    },
    {
      "cell_type": "code",
      "metadata": {
        "id": "uXWhOoqTdrfA",
        "colab": {
          "base_uri": "https://localhost:8080/"
        },
        "outputId": "e4e86058-67c2-42c3-fff7-6591d382d5a8"
      },
      "source": [
        "print(\"[INFO] Used TfidfVectorizer ... \")\n",
        "\n",
        "for i in range(4):\n",
        "    \n",
        "    if i == 2:\n",
        "        model = LogisticRegression()\n",
        "        print(\"   [INFO] evaluating Logistic Regression...\")\n",
        "\n",
        "    if i == 0:\n",
        "        model = LinearSVC()\n",
        "        print(\"   [INFO] evaluating SVC...\")\n",
        "    \n",
        "    if i == 1:\n",
        "        model = MultinomialNB()\n",
        "        print(\"   [INFO] evaluating Naive Bayes...\")\n",
        "    if i ==3:\n",
        "        model = DecisionTreeClassifier()\n",
        "        print(\"   [INFO] evaluating Decision Tree Classifier...\")\n",
        "    \n",
        "    # train and evaluating \n",
        "    model.fit(trainX, trainY)\n",
        "    predictions = model.predict(testX)\n",
        "    print(classification_report(testY,predictions))"
      ],
      "execution_count": 19,
      "outputs": [
        {
          "output_type": "stream",
          "name": "stdout",
          "text": [
            "[INFO] Used TfidfVectorizer ... \n",
            "   [INFO] evaluating SVC...\n",
            "              precision    recall  f1-score   support\n",
            "\n",
            "           0       0.83      0.91      0.87       699\n",
            "           1       0.89      0.79      0.84       627\n",
            "\n",
            "    accuracy                           0.86      1326\n",
            "   macro avg       0.86      0.85      0.85      1326\n",
            "weighted avg       0.86      0.86      0.85      1326\n",
            "\n",
            "   [INFO] evaluating Naive Bayes...\n",
            "              precision    recall  f1-score   support\n",
            "\n",
            "           0       0.75      0.93      0.83       699\n",
            "           1       0.90      0.66      0.76       627\n",
            "\n",
            "    accuracy                           0.80      1326\n",
            "   macro avg       0.83      0.80      0.80      1326\n",
            "weighted avg       0.82      0.80      0.80      1326\n",
            "\n",
            "   [INFO] evaluating Logistic Regression...\n",
            "              precision    recall  f1-score   support\n",
            "\n",
            "           0       0.79      0.93      0.86       699\n",
            "           1       0.91      0.72      0.81       627\n",
            "\n",
            "    accuracy                           0.83      1326\n",
            "   macro avg       0.85      0.83      0.83      1326\n",
            "weighted avg       0.85      0.83      0.83      1326\n",
            "\n",
            "   [INFO] evaluating Decision Tree Classifier...\n",
            "              precision    recall  f1-score   support\n",
            "\n",
            "           0       0.85      0.86      0.85       699\n",
            "           1       0.84      0.83      0.83       627\n",
            "\n",
            "    accuracy                           0.84      1326\n",
            "   macro avg       0.84      0.84      0.84      1326\n",
            "weighted avg       0.84      0.84      0.84      1326\n",
            "\n"
          ]
        }
      ]
    },
    {
      "cell_type": "code",
      "metadata": {
        "id": "CrFns6yUCr6A"
      },
      "source": [
        "def processing(text):\n",
        "    text = clean_text(text)\n",
        "    text = del_stopword(text)\n",
        "    text = ' '.join(text)\n",
        "    text = tf.fit_transform([text])\n",
        "    return text\n",
        "    "
      ],
      "execution_count": 20,
      "outputs": []
    },
    {
      "cell_type": "code",
      "metadata": {
        "id": "lMWj4z0_8HOC"
      },
      "source": [
        "# Hàm kết luận comment có thô tục xúc phạm hay không\n",
        "def result(text):\n",
        "    text = processing(text)\n",
        "    predict = model.predict(text)\n",
        "\n",
        "    if predict == 1:\n",
        "      print(\"câu bình luận thô tục, xúc phạm\")\n",
        "    else:\n",
        "      print('Câu bình luận bình thường')"
      ],
      "execution_count": 22,
      "outputs": []
    },
    {
      "cell_type": "code",
      "metadata": {
        "id": "jrLyPtK9f7c5",
        "colab": {
          "base_uri": "https://localhost:8080/"
        },
        "outputId": "1fe7d26c-9dc9-4572-869e-74edaaa9af4d"
      },
      "source": [
        "text = \"mày ngu quá vậy trời\"\n",
        "print(result(text))"
      ],
      "execution_count": 23,
      "outputs": [
        {
          "output_type": "stream",
          "name": "stdout",
          "text": [
            "câu bình luận thô tục, xúc phạm\n",
            "None\n"
          ]
        }
      ]
    },
    {
      "cell_type": "code",
      "metadata": {
        "id": "RifwemVu8TOd",
        "colab": {
          "base_uri": "https://localhost:8080/"
        },
        "outputId": "4780f8a1-ed90-481d-c81e-28c131635f74"
      },
      "source": [
        "# Lưu lại model\n",
        "import joblib\n",
        "filename = '/content/drive/MyDrive/18520427.sav'\n",
        "joblib.dump(model, filename)"
      ],
      "execution_count": 24,
      "outputs": [
        {
          "output_type": "execute_result",
          "data": {
            "text/plain": [
              "['/content/drive/MyDrive/18520427.sav']"
            ]
          },
          "metadata": {},
          "execution_count": 24
        }
      ]
    },
    {
      "cell_type": "code",
      "metadata": {
        "id": "FsZf0wkyekm7",
        "colab": {
          "base_uri": "https://localhost:8080/"
        },
        "outputId": "3406ddbc-43af-4a57-a54b-6924b376477f"
      },
      "source": [
        "# load the model from disk\n",
        "\n",
        "loaded_model = joblib.load('/content/drive/MyDrive/18520427.sav')\n",
        "text = 'm ngu lắm'\n",
        "text = processing(text)\n",
        "predict = loaded_model.predict(text)\n",
        "\n",
        "print(predict)\n",
        "#result = loaded_model.score(X_test, Y_test)\n",
        "#print(result)"
      ],
      "execution_count": 29,
      "outputs": [
        {
          "output_type": "stream",
          "name": "stdout",
          "text": [
            "[1]\n"
          ]
        }
      ]
    }
  ]
}